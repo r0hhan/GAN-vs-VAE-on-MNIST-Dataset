{
  "nbformat": 4,
  "nbformat_minor": 0,
  "metadata": {
    "colab": {
      "name": "mnist-gan.ipynb",
      "provenance": [],
      "collapsed_sections": []
    },
    "kernelspec": {
      "name": "python3",
      "display_name": "Python 3"
    },
    "accelerator": "GPU",
    "widgets": {
      "application/vnd.jupyter.widget-state+json": {
        "e8c751ad1c114db488a15bf013d30903": {
          "model_module": "@jupyter-widgets/controls",
          "model_name": "HBoxModel",
          "state": {
            "_view_name": "HBoxView",
            "_dom_classes": [],
            "_model_name": "HBoxModel",
            "_view_module": "@jupyter-widgets/controls",
            "_model_module_version": "1.5.0",
            "_view_count": null,
            "_view_module_version": "1.5.0",
            "box_style": "",
            "layout": "IPY_MODEL_79a39df8606f4562beb5990ea7c2b213",
            "_model_module": "@jupyter-widgets/controls",
            "children": [
              "IPY_MODEL_26ef93bb6d7a4e2694f495aaa1e233d4",
              "IPY_MODEL_9eb11d1ec1d748edb30560a8448b3241"
            ]
          }
        },
        "79a39df8606f4562beb5990ea7c2b213": {
          "model_module": "@jupyter-widgets/base",
          "model_name": "LayoutModel",
          "state": {
            "_view_name": "LayoutView",
            "grid_template_rows": null,
            "right": null,
            "justify_content": null,
            "_view_module": "@jupyter-widgets/base",
            "overflow": null,
            "_model_module_version": "1.2.0",
            "_view_count": null,
            "flex_flow": null,
            "width": null,
            "min_width": null,
            "border": null,
            "align_items": null,
            "bottom": null,
            "_model_module": "@jupyter-widgets/base",
            "top": null,
            "grid_column": null,
            "overflow_y": null,
            "overflow_x": null,
            "grid_auto_flow": null,
            "grid_area": null,
            "grid_template_columns": null,
            "flex": null,
            "_model_name": "LayoutModel",
            "justify_items": null,
            "grid_row": null,
            "max_height": null,
            "align_content": null,
            "visibility": null,
            "align_self": null,
            "height": null,
            "min_height": null,
            "padding": null,
            "grid_auto_rows": null,
            "grid_gap": null,
            "max_width": null,
            "order": null,
            "_view_module_version": "1.2.0",
            "grid_template_areas": null,
            "object_position": null,
            "object_fit": null,
            "grid_auto_columns": null,
            "margin": null,
            "display": null,
            "left": null
          }
        },
        "26ef93bb6d7a4e2694f495aaa1e233d4": {
          "model_module": "@jupyter-widgets/controls",
          "model_name": "FloatProgressModel",
          "state": {
            "_view_name": "ProgressView",
            "style": "IPY_MODEL_1aff62495f274b45934de7c3fdf8c6c4",
            "_dom_classes": [],
            "description": "",
            "_model_name": "FloatProgressModel",
            "bar_style": "success",
            "max": 1,
            "_view_module": "@jupyter-widgets/controls",
            "_model_module_version": "1.5.0",
            "value": 1,
            "_view_count": null,
            "_view_module_version": "1.5.0",
            "orientation": "horizontal",
            "min": 0,
            "description_tooltip": null,
            "_model_module": "@jupyter-widgets/controls",
            "layout": "IPY_MODEL_1ba10d8c53ae45208304bee970824394"
          }
        },
        "9eb11d1ec1d748edb30560a8448b3241": {
          "model_module": "@jupyter-widgets/controls",
          "model_name": "HTMLModel",
          "state": {
            "_view_name": "HTMLView",
            "style": "IPY_MODEL_b32c5be1d75b412bb7323df3570bdc15",
            "_dom_classes": [],
            "description": "",
            "_model_name": "HTMLModel",
            "placeholder": "​",
            "_view_module": "@jupyter-widgets/controls",
            "_model_module_version": "1.5.0",
            "value": " 9920512/? [00:00&lt;00:00, 14792872.47it/s]",
            "_view_count": null,
            "_view_module_version": "1.5.0",
            "description_tooltip": null,
            "_model_module": "@jupyter-widgets/controls",
            "layout": "IPY_MODEL_e27a5e11406f4a87b29eb826f7476b85"
          }
        },
        "1aff62495f274b45934de7c3fdf8c6c4": {
          "model_module": "@jupyter-widgets/controls",
          "model_name": "ProgressStyleModel",
          "state": {
            "_view_name": "StyleView",
            "_model_name": "ProgressStyleModel",
            "description_width": "initial",
            "_view_module": "@jupyter-widgets/base",
            "_model_module_version": "1.5.0",
            "_view_count": null,
            "_view_module_version": "1.2.0",
            "bar_color": null,
            "_model_module": "@jupyter-widgets/controls"
          }
        },
        "1ba10d8c53ae45208304bee970824394": {
          "model_module": "@jupyter-widgets/base",
          "model_name": "LayoutModel",
          "state": {
            "_view_name": "LayoutView",
            "grid_template_rows": null,
            "right": null,
            "justify_content": null,
            "_view_module": "@jupyter-widgets/base",
            "overflow": null,
            "_model_module_version": "1.2.0",
            "_view_count": null,
            "flex_flow": null,
            "width": null,
            "min_width": null,
            "border": null,
            "align_items": null,
            "bottom": null,
            "_model_module": "@jupyter-widgets/base",
            "top": null,
            "grid_column": null,
            "overflow_y": null,
            "overflow_x": null,
            "grid_auto_flow": null,
            "grid_area": null,
            "grid_template_columns": null,
            "flex": null,
            "_model_name": "LayoutModel",
            "justify_items": null,
            "grid_row": null,
            "max_height": null,
            "align_content": null,
            "visibility": null,
            "align_self": null,
            "height": null,
            "min_height": null,
            "padding": null,
            "grid_auto_rows": null,
            "grid_gap": null,
            "max_width": null,
            "order": null,
            "_view_module_version": "1.2.0",
            "grid_template_areas": null,
            "object_position": null,
            "object_fit": null,
            "grid_auto_columns": null,
            "margin": null,
            "display": null,
            "left": null
          }
        },
        "b32c5be1d75b412bb7323df3570bdc15": {
          "model_module": "@jupyter-widgets/controls",
          "model_name": "DescriptionStyleModel",
          "state": {
            "_view_name": "StyleView",
            "_model_name": "DescriptionStyleModel",
            "description_width": "",
            "_view_module": "@jupyter-widgets/base",
            "_model_module_version": "1.5.0",
            "_view_count": null,
            "_view_module_version": "1.2.0",
            "_model_module": "@jupyter-widgets/controls"
          }
        },
        "e27a5e11406f4a87b29eb826f7476b85": {
          "model_module": "@jupyter-widgets/base",
          "model_name": "LayoutModel",
          "state": {
            "_view_name": "LayoutView",
            "grid_template_rows": null,
            "right": null,
            "justify_content": null,
            "_view_module": "@jupyter-widgets/base",
            "overflow": null,
            "_model_module_version": "1.2.0",
            "_view_count": null,
            "flex_flow": null,
            "width": null,
            "min_width": null,
            "border": null,
            "align_items": null,
            "bottom": null,
            "_model_module": "@jupyter-widgets/base",
            "top": null,
            "grid_column": null,
            "overflow_y": null,
            "overflow_x": null,
            "grid_auto_flow": null,
            "grid_area": null,
            "grid_template_columns": null,
            "flex": null,
            "_model_name": "LayoutModel",
            "justify_items": null,
            "grid_row": null,
            "max_height": null,
            "align_content": null,
            "visibility": null,
            "align_self": null,
            "height": null,
            "min_height": null,
            "padding": null,
            "grid_auto_rows": null,
            "grid_gap": null,
            "max_width": null,
            "order": null,
            "_view_module_version": "1.2.0",
            "grid_template_areas": null,
            "object_position": null,
            "object_fit": null,
            "grid_auto_columns": null,
            "margin": null,
            "display": null,
            "left": null
          }
        },
        "4c8176962f234f9295a2bb69ca59dfbe": {
          "model_module": "@jupyter-widgets/controls",
          "model_name": "HBoxModel",
          "state": {
            "_view_name": "HBoxView",
            "_dom_classes": [],
            "_model_name": "HBoxModel",
            "_view_module": "@jupyter-widgets/controls",
            "_model_module_version": "1.5.0",
            "_view_count": null,
            "_view_module_version": "1.5.0",
            "box_style": "",
            "layout": "IPY_MODEL_bc5402a864824e4fb5d65a335dcabfc1",
            "_model_module": "@jupyter-widgets/controls",
            "children": [
              "IPY_MODEL_c7442a48721a460b816e5baee4063992",
              "IPY_MODEL_8e8306f785284ab49bf41f7b84601a41"
            ]
          }
        },
        "bc5402a864824e4fb5d65a335dcabfc1": {
          "model_module": "@jupyter-widgets/base",
          "model_name": "LayoutModel",
          "state": {
            "_view_name": "LayoutView",
            "grid_template_rows": null,
            "right": null,
            "justify_content": null,
            "_view_module": "@jupyter-widgets/base",
            "overflow": null,
            "_model_module_version": "1.2.0",
            "_view_count": null,
            "flex_flow": null,
            "width": null,
            "min_width": null,
            "border": null,
            "align_items": null,
            "bottom": null,
            "_model_module": "@jupyter-widgets/base",
            "top": null,
            "grid_column": null,
            "overflow_y": null,
            "overflow_x": null,
            "grid_auto_flow": null,
            "grid_area": null,
            "grid_template_columns": null,
            "flex": null,
            "_model_name": "LayoutModel",
            "justify_items": null,
            "grid_row": null,
            "max_height": null,
            "align_content": null,
            "visibility": null,
            "align_self": null,
            "height": null,
            "min_height": null,
            "padding": null,
            "grid_auto_rows": null,
            "grid_gap": null,
            "max_width": null,
            "order": null,
            "_view_module_version": "1.2.0",
            "grid_template_areas": null,
            "object_position": null,
            "object_fit": null,
            "grid_auto_columns": null,
            "margin": null,
            "display": null,
            "left": null
          }
        },
        "c7442a48721a460b816e5baee4063992": {
          "model_module": "@jupyter-widgets/controls",
          "model_name": "FloatProgressModel",
          "state": {
            "_view_name": "ProgressView",
            "style": "IPY_MODEL_e234352968ae474db603ef53f0b79b8c",
            "_dom_classes": [],
            "description": "",
            "_model_name": "FloatProgressModel",
            "bar_style": "success",
            "max": 1,
            "_view_module": "@jupyter-widgets/controls",
            "_model_module_version": "1.5.0",
            "value": 1,
            "_view_count": null,
            "_view_module_version": "1.5.0",
            "orientation": "horizontal",
            "min": 0,
            "description_tooltip": null,
            "_model_module": "@jupyter-widgets/controls",
            "layout": "IPY_MODEL_1f36f8f8640c409094a64350f2cffa08"
          }
        },
        "8e8306f785284ab49bf41f7b84601a41": {
          "model_module": "@jupyter-widgets/controls",
          "model_name": "HTMLModel",
          "state": {
            "_view_name": "HTMLView",
            "style": "IPY_MODEL_af347320fbc54703be94a4c2e0bea236",
            "_dom_classes": [],
            "description": "",
            "_model_name": "HTMLModel",
            "placeholder": "​",
            "_view_module": "@jupyter-widgets/controls",
            "_model_module_version": "1.5.0",
            "value": " 32768/? [00:00&lt;00:00, 371344.22it/s]",
            "_view_count": null,
            "_view_module_version": "1.5.0",
            "description_tooltip": null,
            "_model_module": "@jupyter-widgets/controls",
            "layout": "IPY_MODEL_97b3303911a149198c9b1be3288ceec9"
          }
        },
        "e234352968ae474db603ef53f0b79b8c": {
          "model_module": "@jupyter-widgets/controls",
          "model_name": "ProgressStyleModel",
          "state": {
            "_view_name": "StyleView",
            "_model_name": "ProgressStyleModel",
            "description_width": "initial",
            "_view_module": "@jupyter-widgets/base",
            "_model_module_version": "1.5.0",
            "_view_count": null,
            "_view_module_version": "1.2.0",
            "bar_color": null,
            "_model_module": "@jupyter-widgets/controls"
          }
        },
        "1f36f8f8640c409094a64350f2cffa08": {
          "model_module": "@jupyter-widgets/base",
          "model_name": "LayoutModel",
          "state": {
            "_view_name": "LayoutView",
            "grid_template_rows": null,
            "right": null,
            "justify_content": null,
            "_view_module": "@jupyter-widgets/base",
            "overflow": null,
            "_model_module_version": "1.2.0",
            "_view_count": null,
            "flex_flow": null,
            "width": null,
            "min_width": null,
            "border": null,
            "align_items": null,
            "bottom": null,
            "_model_module": "@jupyter-widgets/base",
            "top": null,
            "grid_column": null,
            "overflow_y": null,
            "overflow_x": null,
            "grid_auto_flow": null,
            "grid_area": null,
            "grid_template_columns": null,
            "flex": null,
            "_model_name": "LayoutModel",
            "justify_items": null,
            "grid_row": null,
            "max_height": null,
            "align_content": null,
            "visibility": null,
            "align_self": null,
            "height": null,
            "min_height": null,
            "padding": null,
            "grid_auto_rows": null,
            "grid_gap": null,
            "max_width": null,
            "order": null,
            "_view_module_version": "1.2.0",
            "grid_template_areas": null,
            "object_position": null,
            "object_fit": null,
            "grid_auto_columns": null,
            "margin": null,
            "display": null,
            "left": null
          }
        },
        "af347320fbc54703be94a4c2e0bea236": {
          "model_module": "@jupyter-widgets/controls",
          "model_name": "DescriptionStyleModel",
          "state": {
            "_view_name": "StyleView",
            "_model_name": "DescriptionStyleModel",
            "description_width": "",
            "_view_module": "@jupyter-widgets/base",
            "_model_module_version": "1.5.0",
            "_view_count": null,
            "_view_module_version": "1.2.0",
            "_model_module": "@jupyter-widgets/controls"
          }
        },
        "97b3303911a149198c9b1be3288ceec9": {
          "model_module": "@jupyter-widgets/base",
          "model_name": "LayoutModel",
          "state": {
            "_view_name": "LayoutView",
            "grid_template_rows": null,
            "right": null,
            "justify_content": null,
            "_view_module": "@jupyter-widgets/base",
            "overflow": null,
            "_model_module_version": "1.2.0",
            "_view_count": null,
            "flex_flow": null,
            "width": null,
            "min_width": null,
            "border": null,
            "align_items": null,
            "bottom": null,
            "_model_module": "@jupyter-widgets/base",
            "top": null,
            "grid_column": null,
            "overflow_y": null,
            "overflow_x": null,
            "grid_auto_flow": null,
            "grid_area": null,
            "grid_template_columns": null,
            "flex": null,
            "_model_name": "LayoutModel",
            "justify_items": null,
            "grid_row": null,
            "max_height": null,
            "align_content": null,
            "visibility": null,
            "align_self": null,
            "height": null,
            "min_height": null,
            "padding": null,
            "grid_auto_rows": null,
            "grid_gap": null,
            "max_width": null,
            "order": null,
            "_view_module_version": "1.2.0",
            "grid_template_areas": null,
            "object_position": null,
            "object_fit": null,
            "grid_auto_columns": null,
            "margin": null,
            "display": null,
            "left": null
          }
        },
        "fe139084d8e043d9ba1f9b70c0bd59cc": {
          "model_module": "@jupyter-widgets/controls",
          "model_name": "HBoxModel",
          "state": {
            "_view_name": "HBoxView",
            "_dom_classes": [],
            "_model_name": "HBoxModel",
            "_view_module": "@jupyter-widgets/controls",
            "_model_module_version": "1.5.0",
            "_view_count": null,
            "_view_module_version": "1.5.0",
            "box_style": "",
            "layout": "IPY_MODEL_3e2e01c124024d1a8dafaeeef761cff4",
            "_model_module": "@jupyter-widgets/controls",
            "children": [
              "IPY_MODEL_2af97ecc986148f78c784682c0b64192",
              "IPY_MODEL_ee3072315eeb4102b2bd6e342dcf162c"
            ]
          }
        },
        "3e2e01c124024d1a8dafaeeef761cff4": {
          "model_module": "@jupyter-widgets/base",
          "model_name": "LayoutModel",
          "state": {
            "_view_name": "LayoutView",
            "grid_template_rows": null,
            "right": null,
            "justify_content": null,
            "_view_module": "@jupyter-widgets/base",
            "overflow": null,
            "_model_module_version": "1.2.0",
            "_view_count": null,
            "flex_flow": null,
            "width": null,
            "min_width": null,
            "border": null,
            "align_items": null,
            "bottom": null,
            "_model_module": "@jupyter-widgets/base",
            "top": null,
            "grid_column": null,
            "overflow_y": null,
            "overflow_x": null,
            "grid_auto_flow": null,
            "grid_area": null,
            "grid_template_columns": null,
            "flex": null,
            "_model_name": "LayoutModel",
            "justify_items": null,
            "grid_row": null,
            "max_height": null,
            "align_content": null,
            "visibility": null,
            "align_self": null,
            "height": null,
            "min_height": null,
            "padding": null,
            "grid_auto_rows": null,
            "grid_gap": null,
            "max_width": null,
            "order": null,
            "_view_module_version": "1.2.0",
            "grid_template_areas": null,
            "object_position": null,
            "object_fit": null,
            "grid_auto_columns": null,
            "margin": null,
            "display": null,
            "left": null
          }
        },
        "2af97ecc986148f78c784682c0b64192": {
          "model_module": "@jupyter-widgets/controls",
          "model_name": "FloatProgressModel",
          "state": {
            "_view_name": "ProgressView",
            "style": "IPY_MODEL_03dd33d325dd495b88c3983443dd9a25",
            "_dom_classes": [],
            "description": "",
            "_model_name": "FloatProgressModel",
            "bar_style": "info",
            "max": 1,
            "_view_module": "@jupyter-widgets/controls",
            "_model_module_version": "1.5.0",
            "value": 1,
            "_view_count": null,
            "_view_module_version": "1.5.0",
            "orientation": "horizontal",
            "min": 0,
            "description_tooltip": null,
            "_model_module": "@jupyter-widgets/controls",
            "layout": "IPY_MODEL_c2b9c5c674d2443380a24d2ce93d3dc7"
          }
        },
        "ee3072315eeb4102b2bd6e342dcf162c": {
          "model_module": "@jupyter-widgets/controls",
          "model_name": "HTMLModel",
          "state": {
            "_view_name": "HTMLView",
            "style": "IPY_MODEL_284b97a521ae4cfab12ba786cf39aa66",
            "_dom_classes": [],
            "description": "",
            "_model_name": "HTMLModel",
            "placeholder": "​",
            "_view_module": "@jupyter-widgets/controls",
            "_model_module_version": "1.5.0",
            "value": " 1654784/? [00:19&lt;00:00, 143187.05it/s]",
            "_view_count": null,
            "_view_module_version": "1.5.0",
            "description_tooltip": null,
            "_model_module": "@jupyter-widgets/controls",
            "layout": "IPY_MODEL_5f8db818c06b42639738ca46442bbba9"
          }
        },
        "03dd33d325dd495b88c3983443dd9a25": {
          "model_module": "@jupyter-widgets/controls",
          "model_name": "ProgressStyleModel",
          "state": {
            "_view_name": "StyleView",
            "_model_name": "ProgressStyleModel",
            "description_width": "initial",
            "_view_module": "@jupyter-widgets/base",
            "_model_module_version": "1.5.0",
            "_view_count": null,
            "_view_module_version": "1.2.0",
            "bar_color": null,
            "_model_module": "@jupyter-widgets/controls"
          }
        },
        "c2b9c5c674d2443380a24d2ce93d3dc7": {
          "model_module": "@jupyter-widgets/base",
          "model_name": "LayoutModel",
          "state": {
            "_view_name": "LayoutView",
            "grid_template_rows": null,
            "right": null,
            "justify_content": null,
            "_view_module": "@jupyter-widgets/base",
            "overflow": null,
            "_model_module_version": "1.2.0",
            "_view_count": null,
            "flex_flow": null,
            "width": null,
            "min_width": null,
            "border": null,
            "align_items": null,
            "bottom": null,
            "_model_module": "@jupyter-widgets/base",
            "top": null,
            "grid_column": null,
            "overflow_y": null,
            "overflow_x": null,
            "grid_auto_flow": null,
            "grid_area": null,
            "grid_template_columns": null,
            "flex": null,
            "_model_name": "LayoutModel",
            "justify_items": null,
            "grid_row": null,
            "max_height": null,
            "align_content": null,
            "visibility": null,
            "align_self": null,
            "height": null,
            "min_height": null,
            "padding": null,
            "grid_auto_rows": null,
            "grid_gap": null,
            "max_width": null,
            "order": null,
            "_view_module_version": "1.2.0",
            "grid_template_areas": null,
            "object_position": null,
            "object_fit": null,
            "grid_auto_columns": null,
            "margin": null,
            "display": null,
            "left": null
          }
        },
        "284b97a521ae4cfab12ba786cf39aa66": {
          "model_module": "@jupyter-widgets/controls",
          "model_name": "DescriptionStyleModel",
          "state": {
            "_view_name": "StyleView",
            "_model_name": "DescriptionStyleModel",
            "description_width": "",
            "_view_module": "@jupyter-widgets/base",
            "_model_module_version": "1.5.0",
            "_view_count": null,
            "_view_module_version": "1.2.0",
            "_model_module": "@jupyter-widgets/controls"
          }
        },
        "5f8db818c06b42639738ca46442bbba9": {
          "model_module": "@jupyter-widgets/base",
          "model_name": "LayoutModel",
          "state": {
            "_view_name": "LayoutView",
            "grid_template_rows": null,
            "right": null,
            "justify_content": null,
            "_view_module": "@jupyter-widgets/base",
            "overflow": null,
            "_model_module_version": "1.2.0",
            "_view_count": null,
            "flex_flow": null,
            "width": null,
            "min_width": null,
            "border": null,
            "align_items": null,
            "bottom": null,
            "_model_module": "@jupyter-widgets/base",
            "top": null,
            "grid_column": null,
            "overflow_y": null,
            "overflow_x": null,
            "grid_auto_flow": null,
            "grid_area": null,
            "grid_template_columns": null,
            "flex": null,
            "_model_name": "LayoutModel",
            "justify_items": null,
            "grid_row": null,
            "max_height": null,
            "align_content": null,
            "visibility": null,
            "align_self": null,
            "height": null,
            "min_height": null,
            "padding": null,
            "grid_auto_rows": null,
            "grid_gap": null,
            "max_width": null,
            "order": null,
            "_view_module_version": "1.2.0",
            "grid_template_areas": null,
            "object_position": null,
            "object_fit": null,
            "grid_auto_columns": null,
            "margin": null,
            "display": null,
            "left": null
          }
        },
        "7bd7110d5ef949dab486c28b7b5ac743": {
          "model_module": "@jupyter-widgets/controls",
          "model_name": "HBoxModel",
          "state": {
            "_view_name": "HBoxView",
            "_dom_classes": [],
            "_model_name": "HBoxModel",
            "_view_module": "@jupyter-widgets/controls",
            "_model_module_version": "1.5.0",
            "_view_count": null,
            "_view_module_version": "1.5.0",
            "box_style": "",
            "layout": "IPY_MODEL_094542622fac4e9c9bf844ef1219beda",
            "_model_module": "@jupyter-widgets/controls",
            "children": [
              "IPY_MODEL_372aa5a946164e92abf15e2c71b203bd",
              "IPY_MODEL_7a7388cce75d4bfea4c120f81cd2e0a6"
            ]
          }
        },
        "094542622fac4e9c9bf844ef1219beda": {
          "model_module": "@jupyter-widgets/base",
          "model_name": "LayoutModel",
          "state": {
            "_view_name": "LayoutView",
            "grid_template_rows": null,
            "right": null,
            "justify_content": null,
            "_view_module": "@jupyter-widgets/base",
            "overflow": null,
            "_model_module_version": "1.2.0",
            "_view_count": null,
            "flex_flow": null,
            "width": null,
            "min_width": null,
            "border": null,
            "align_items": null,
            "bottom": null,
            "_model_module": "@jupyter-widgets/base",
            "top": null,
            "grid_column": null,
            "overflow_y": null,
            "overflow_x": null,
            "grid_auto_flow": null,
            "grid_area": null,
            "grid_template_columns": null,
            "flex": null,
            "_model_name": "LayoutModel",
            "justify_items": null,
            "grid_row": null,
            "max_height": null,
            "align_content": null,
            "visibility": null,
            "align_self": null,
            "height": null,
            "min_height": null,
            "padding": null,
            "grid_auto_rows": null,
            "grid_gap": null,
            "max_width": null,
            "order": null,
            "_view_module_version": "1.2.0",
            "grid_template_areas": null,
            "object_position": null,
            "object_fit": null,
            "grid_auto_columns": null,
            "margin": null,
            "display": null,
            "left": null
          }
        },
        "372aa5a946164e92abf15e2c71b203bd": {
          "model_module": "@jupyter-widgets/controls",
          "model_name": "FloatProgressModel",
          "state": {
            "_view_name": "ProgressView",
            "style": "IPY_MODEL_48ae32d23ec84e519985829ce974d5cf",
            "_dom_classes": [],
            "description": "",
            "_model_name": "FloatProgressModel",
            "bar_style": "success",
            "max": 1,
            "_view_module": "@jupyter-widgets/controls",
            "_model_module_version": "1.5.0",
            "value": 1,
            "_view_count": null,
            "_view_module_version": "1.5.0",
            "orientation": "horizontal",
            "min": 0,
            "description_tooltip": null,
            "_model_module": "@jupyter-widgets/controls",
            "layout": "IPY_MODEL_9faf91d47e3646ac9dbae70204c80711"
          }
        },
        "7a7388cce75d4bfea4c120f81cd2e0a6": {
          "model_module": "@jupyter-widgets/controls",
          "model_name": "HTMLModel",
          "state": {
            "_view_name": "HTMLView",
            "style": "IPY_MODEL_02935d876b584dfd9aa9da2050580e07",
            "_dom_classes": [],
            "description": "",
            "_model_name": "HTMLModel",
            "placeholder": "​",
            "_view_module": "@jupyter-widgets/controls",
            "_model_module_version": "1.5.0",
            "value": " 8192/? [00:04&lt;00:00, 1654.54it/s]",
            "_view_count": null,
            "_view_module_version": "1.5.0",
            "description_tooltip": null,
            "_model_module": "@jupyter-widgets/controls",
            "layout": "IPY_MODEL_80f0f5b5ccb349e892273a6b958f2bf0"
          }
        },
        "48ae32d23ec84e519985829ce974d5cf": {
          "model_module": "@jupyter-widgets/controls",
          "model_name": "ProgressStyleModel",
          "state": {
            "_view_name": "StyleView",
            "_model_name": "ProgressStyleModel",
            "description_width": "initial",
            "_view_module": "@jupyter-widgets/base",
            "_model_module_version": "1.5.0",
            "_view_count": null,
            "_view_module_version": "1.2.0",
            "bar_color": null,
            "_model_module": "@jupyter-widgets/controls"
          }
        },
        "9faf91d47e3646ac9dbae70204c80711": {
          "model_module": "@jupyter-widgets/base",
          "model_name": "LayoutModel",
          "state": {
            "_view_name": "LayoutView",
            "grid_template_rows": null,
            "right": null,
            "justify_content": null,
            "_view_module": "@jupyter-widgets/base",
            "overflow": null,
            "_model_module_version": "1.2.0",
            "_view_count": null,
            "flex_flow": null,
            "width": null,
            "min_width": null,
            "border": null,
            "align_items": null,
            "bottom": null,
            "_model_module": "@jupyter-widgets/base",
            "top": null,
            "grid_column": null,
            "overflow_y": null,
            "overflow_x": null,
            "grid_auto_flow": null,
            "grid_area": null,
            "grid_template_columns": null,
            "flex": null,
            "_model_name": "LayoutModel",
            "justify_items": null,
            "grid_row": null,
            "max_height": null,
            "align_content": null,
            "visibility": null,
            "align_self": null,
            "height": null,
            "min_height": null,
            "padding": null,
            "grid_auto_rows": null,
            "grid_gap": null,
            "max_width": null,
            "order": null,
            "_view_module_version": "1.2.0",
            "grid_template_areas": null,
            "object_position": null,
            "object_fit": null,
            "grid_auto_columns": null,
            "margin": null,
            "display": null,
            "left": null
          }
        },
        "02935d876b584dfd9aa9da2050580e07": {
          "model_module": "@jupyter-widgets/controls",
          "model_name": "DescriptionStyleModel",
          "state": {
            "_view_name": "StyleView",
            "_model_name": "DescriptionStyleModel",
            "description_width": "",
            "_view_module": "@jupyter-widgets/base",
            "_model_module_version": "1.5.0",
            "_view_count": null,
            "_view_module_version": "1.2.0",
            "_model_module": "@jupyter-widgets/controls"
          }
        },
        "80f0f5b5ccb349e892273a6b958f2bf0": {
          "model_module": "@jupyter-widgets/base",
          "model_name": "LayoutModel",
          "state": {
            "_view_name": "LayoutView",
            "grid_template_rows": null,
            "right": null,
            "justify_content": null,
            "_view_module": "@jupyter-widgets/base",
            "overflow": null,
            "_model_module_version": "1.2.0",
            "_view_count": null,
            "flex_flow": null,
            "width": null,
            "min_width": null,
            "border": null,
            "align_items": null,
            "bottom": null,
            "_model_module": "@jupyter-widgets/base",
            "top": null,
            "grid_column": null,
            "overflow_y": null,
            "overflow_x": null,
            "grid_auto_flow": null,
            "grid_area": null,
            "grid_template_columns": null,
            "flex": null,
            "_model_name": "LayoutModel",
            "justify_items": null,
            "grid_row": null,
            "max_height": null,
            "align_content": null,
            "visibility": null,
            "align_self": null,
            "height": null,
            "min_height": null,
            "padding": null,
            "grid_auto_rows": null,
            "grid_gap": null,
            "max_width": null,
            "order": null,
            "_view_module_version": "1.2.0",
            "grid_template_areas": null,
            "object_position": null,
            "object_fit": null,
            "grid_auto_columns": null,
            "margin": null,
            "display": null,
            "left": null
          }
        }
      }
    }
  },
  "cells": [
    {
      "cell_type": "code",
      "metadata": {
        "id": "KjTToQyvY0Ne"
      },
      "source": [
        "%matplotlib inline\n",
        "\n",
        "import numpy as np\n",
        "import torch\n",
        "import matplotlib.pyplot as plt"
      ],
      "execution_count": 1,
      "outputs": []
    },
    {
      "cell_type": "code",
      "metadata": {
        "id": "E9xuEIHMY14z",
        "colab": {
          "base_uri": "https://localhost:8080/",
          "height": 404,
          "referenced_widgets": [
            "e8c751ad1c114db488a15bf013d30903",
            "79a39df8606f4562beb5990ea7c2b213",
            "26ef93bb6d7a4e2694f495aaa1e233d4",
            "9eb11d1ec1d748edb30560a8448b3241",
            "1aff62495f274b45934de7c3fdf8c6c4",
            "1ba10d8c53ae45208304bee970824394",
            "b32c5be1d75b412bb7323df3570bdc15",
            "e27a5e11406f4a87b29eb826f7476b85",
            "4c8176962f234f9295a2bb69ca59dfbe",
            "bc5402a864824e4fb5d65a335dcabfc1",
            "c7442a48721a460b816e5baee4063992",
            "8e8306f785284ab49bf41f7b84601a41",
            "e234352968ae474db603ef53f0b79b8c",
            "1f36f8f8640c409094a64350f2cffa08",
            "af347320fbc54703be94a4c2e0bea236",
            "97b3303911a149198c9b1be3288ceec9",
            "fe139084d8e043d9ba1f9b70c0bd59cc",
            "3e2e01c124024d1a8dafaeeef761cff4",
            "2af97ecc986148f78c784682c0b64192",
            "ee3072315eeb4102b2bd6e342dcf162c",
            "03dd33d325dd495b88c3983443dd9a25",
            "c2b9c5c674d2443380a24d2ce93d3dc7",
            "284b97a521ae4cfab12ba786cf39aa66",
            "5f8db818c06b42639738ca46442bbba9",
            "7bd7110d5ef949dab486c28b7b5ac743",
            "094542622fac4e9c9bf844ef1219beda",
            "372aa5a946164e92abf15e2c71b203bd",
            "7a7388cce75d4bfea4c120f81cd2e0a6",
            "48ae32d23ec84e519985829ce974d5cf",
            "9faf91d47e3646ac9dbae70204c80711",
            "02935d876b584dfd9aa9da2050580e07",
            "80f0f5b5ccb349e892273a6b958f2bf0"
          ]
        },
        "outputId": "273e849e-21c4-4aa6-975d-eb72b88c0583"
      },
      "source": [
        "from torchvision import datasets\n",
        "import torchvision.transforms as transforms\n",
        "\n",
        "# how many samples per batch to load\n",
        "batch_size = 64\n",
        "\n",
        "# convert data to torch.FloatTensor\n",
        "transform = transforms.ToTensor()\n",
        "\n",
        "# get the training datasets\n",
        "train_data = datasets.MNIST(root='data', train=True,\n",
        "                                   download=True, transform=transform)\n",
        "\n",
        "# prepare data loader\n",
        "train_loader = torch.utils.data.DataLoader(train_data, batch_size = batch_size,\n",
        "                                           shuffle = True)"
      ],
      "execution_count": 2,
      "outputs": [
        {
          "output_type": "stream",
          "text": [
            "Downloading http://yann.lecun.com/exdb/mnist/train-images-idx3-ubyte.gz to data/MNIST/raw/train-images-idx3-ubyte.gz\n"
          ],
          "name": "stdout"
        },
        {
          "output_type": "display_data",
          "data": {
            "application/vnd.jupyter.widget-view+json": {
              "model_id": "e8c751ad1c114db488a15bf013d30903",
              "version_minor": 0,
              "version_major": 2
            },
            "text/plain": [
              "HBox(children=(FloatProgress(value=1.0, bar_style='info', max=1.0), HTML(value='')))"
            ]
          },
          "metadata": {
            "tags": []
          }
        },
        {
          "output_type": "stream",
          "text": [
            "Extracting data/MNIST/raw/train-images-idx3-ubyte.gz to data/MNIST/raw\n",
            "Downloading http://yann.lecun.com/exdb/mnist/train-labels-idx1-ubyte.gz to data/MNIST/raw/train-labels-idx1-ubyte.gz\n"
          ],
          "name": "stdout"
        },
        {
          "output_type": "display_data",
          "data": {
            "application/vnd.jupyter.widget-view+json": {
              "model_id": "4c8176962f234f9295a2bb69ca59dfbe",
              "version_minor": 0,
              "version_major": 2
            },
            "text/plain": [
              "HBox(children=(FloatProgress(value=1.0, bar_style='info', max=1.0), HTML(value='')))"
            ]
          },
          "metadata": {
            "tags": []
          }
        },
        {
          "output_type": "stream",
          "text": [
            "Extracting data/MNIST/raw/train-labels-idx1-ubyte.gz to data/MNIST/raw\n",
            "Downloading http://yann.lecun.com/exdb/mnist/t10k-images-idx3-ubyte.gz to data/MNIST/raw/t10k-images-idx3-ubyte.gz\n",
            "\n",
            "\n"
          ],
          "name": "stdout"
        },
        {
          "output_type": "display_data",
          "data": {
            "application/vnd.jupyter.widget-view+json": {
              "model_id": "fe139084d8e043d9ba1f9b70c0bd59cc",
              "version_minor": 0,
              "version_major": 2
            },
            "text/plain": [
              "HBox(children=(FloatProgress(value=1.0, bar_style='info', max=1.0), HTML(value='')))"
            ]
          },
          "metadata": {
            "tags": []
          }
        },
        {
          "output_type": "stream",
          "text": [
            "Extracting data/MNIST/raw/t10k-images-idx3-ubyte.gz to data/MNIST/raw\n",
            "Downloading http://yann.lecun.com/exdb/mnist/t10k-labels-idx1-ubyte.gz to data/MNIST/raw/t10k-labels-idx1-ubyte.gz\n"
          ],
          "name": "stdout"
        },
        {
          "output_type": "display_data",
          "data": {
            "application/vnd.jupyter.widget-view+json": {
              "model_id": "7bd7110d5ef949dab486c28b7b5ac743",
              "version_minor": 0,
              "version_major": 2
            },
            "text/plain": [
              "HBox(children=(FloatProgress(value=1.0, bar_style='info', max=1.0), HTML(value='')))"
            ]
          },
          "metadata": {
            "tags": []
          }
        },
        {
          "output_type": "stream",
          "text": [
            "Extracting data/MNIST/raw/t10k-labels-idx1-ubyte.gz to data/MNIST/raw\n",
            "Processing...\n",
            "Done!\n"
          ],
          "name": "stdout"
        },
        {
          "output_type": "stream",
          "text": [
            "/usr/local/lib/python3.6/dist-packages/torchvision/datasets/mnist.py:480: UserWarning: The given NumPy array is not writeable, and PyTorch does not support non-writeable tensors. This means you can write to the underlying (supposedly non-writeable) NumPy array using the tensor. You may want to copy the array to protect its data or make it writeable before converting it to a tensor. This type of warning will be suppressed for the rest of this program. (Triggered internally at  /pytorch/torch/csrc/utils/tensor_numpy.cpp:141.)\n",
            "  return torch.from_numpy(parsed.astype(m[2], copy=False)).view(*s)\n"
          ],
          "name": "stderr"
        }
      ]
    },
    {
      "cell_type": "code",
      "metadata": {
        "id": "7twoRKKAY3es",
        "colab": {
          "base_uri": "https://localhost:8080/",
          "height": 246
        },
        "outputId": "399eef80-47d1-4739-a26e-9725ab8616d3"
      },
      "source": [
        "# obtain one batch of training images\n",
        "dataiter = iter(train_loader)\n",
        "images, labels = dataiter.next()\n",
        "images = images.numpy()\n",
        "\n",
        "# get one image from the batch\n",
        "img = np.squeeze(images[0])\n",
        "\n",
        "fig = plt.figure(figsize = (3,3)) \n",
        "ax = fig.add_subplot(111)\n",
        "ax.imshow(img, cmap='gray')"
      ],
      "execution_count": 3,
      "outputs": [
        {
          "output_type": "stream",
          "text": [
            "\n"
          ],
          "name": "stdout"
        },
        {
          "output_type": "execute_result",
          "data": {
            "text/plain": [
              "<matplotlib.image.AxesImage at 0x7fb519c6d780>"
            ]
          },
          "metadata": {
            "tags": []
          },
          "execution_count": 3
        },
        {
          "output_type": "display_data",
          "data": {
            "image/png": "[encoded data removed]",
            "text/plain": [
              "<Figure size 216x216 with 1 Axes>"
            ]
          },
          "metadata": {
            "tags": [],
            "needs_background": "light"
          }
        }
      ]
    },
    {
      "cell_type": "code",
      "metadata": {
        "id": "AhT_cXmKY5PJ"
      },
      "source": [
        "import torch.nn as nn\n",
        "import torch.nn.functional as F\n",
        "\n",
        "class Discriminator(nn.Module):\n",
        "\n",
        "    def __init__(self, input_size, hidden_dim, output_size):\n",
        "        super(Discriminator, self).__init__()\n",
        "        \n",
        "        # define hidden linear layers\n",
        "        self.fc1 = nn.Linear(input_size, hidden_dim*4)\n",
        "        self.fc2 = nn.Linear(hidden_dim*4, hidden_dim*2)\n",
        "        self.fc3 = nn.Linear(hidden_dim*2, hidden_dim)\n",
        "        \n",
        "        # final fully-connected layer\n",
        "        self.fc4 = nn.Linear(hidden_dim, output_size)\n",
        "\n",
        "        # dropout layer \n",
        "        self.dropout = nn.Dropout(0.3)\n",
        "        \n",
        "        \n",
        "    def forward(self, x):\n",
        "        # flatten image\n",
        "        x = x.view(-1, 28*28)\n",
        "        # all hidden layers\n",
        "        x = F.leaky_relu(self.fc1(x), 0.2) # (input, negative_slope=0.2)\n",
        "        x = self.dropout(x)\n",
        "        x = F.leaky_relu(self.fc2(x), 0.2)\n",
        "        x = self.dropout(x)\n",
        "        x = F.leaky_relu(self.fc3(x), 0.2)\n",
        "        x = self.dropout(x)\n",
        "        # final layer\n",
        "        out = self.fc4(x)\n",
        "\n",
        "        return out"
      ],
      "execution_count": 24,
      "outputs": []
    },
    {
      "cell_type": "code",
      "metadata": {
        "id": "EAnWJKWIY6xq"
      },
      "source": [
        "class Generator(nn.Module):\n",
        "\n",
        "    def __init__(self, input_size, hidden_dim, output_size):\n",
        "        super(Generator, self).__init__()\n",
        "        \n",
        "        # define hidden linear layers\n",
        "        self.fc1 = nn.Linear(input_size, hidden_dim)\n",
        "        self.fc2 = nn.Linear(hidden_dim, hidden_dim*2)\n",
        "        self.fc3 = nn.Linear(hidden_dim*2, hidden_dim*4)\n",
        "        \n",
        "        # final fully-connected layer\n",
        "        self.fc4 = nn.Linear(hidden_dim*4, output_size)\n",
        "        \n",
        "        # dropout layer \n",
        "        self.dropout = nn.Dropout(0.3)\n",
        "\n",
        "    def forward(self, x):\n",
        "        # all hidden layers\n",
        "        x = F.leaky_relu(self.fc1(x), 0.2) # (input, negative_slope=0.2)\n",
        "        x = self.dropout(x)\n",
        "        x = F.leaky_relu(self.fc2(x), 0.2)\n",
        "        x = self.dropout(x)\n",
        "        x = F.leaky_relu(self.fc3(x), 0.2)\n",
        "        x = self.dropout(x)\n",
        "        # final layer with tanh applied\n",
        "        out = F.tanh(self.fc4(x))\n",
        "\n",
        "        return out"
      ],
      "execution_count": 36,
      "outputs": []
    },
    {
      "cell_type": "code",
      "metadata": {
        "id": "mWbSv5dmY8Na"
      },
      "source": [
        "# Discriminator hyperparams\n",
        "\n",
        "# Size of input image to discriminator (28*28)\n",
        "input_size = 784\n",
        "# Size of discriminator output (real or fake)\n",
        "d_output_size = 1\n",
        "# Size of last hidden layer in the discriminator\n",
        "d_hidden_size = 256\n",
        "\n",
        "# Generator hyperparams\n",
        "\n",
        "# Size of latent vector to give to generator\n",
        "z_size = 100\n",
        "# Size of discriminator output (generated image)\n",
        "g_output_size = 784\n",
        "# Size of first hidden layer in the generator\n",
        "g_hidden_size = 256"
      ],
      "execution_count": 37,
      "outputs": []
    },
    {
      "cell_type": "code",
      "metadata": {
        "id": "pExSjl-VY9s3",
        "colab": {
          "base_uri": "https://localhost:8080/"
        },
        "outputId": "7423f35c-23e9-40aa-c13f-1bb6957ecd71"
      },
      "source": [
        "# instantiate discriminator and generator\n",
        "D = Discriminator(input_size, d_hidden_size, d_output_size)\n",
        "G = Generator(z_size, g_hidden_size, g_output_size)\n",
        "\n",
        "# check that they are as you expect\n",
        "print(D)\n",
        "print()\n",
        "print(G)"
      ],
      "execution_count": 47,
      "outputs": [
        {
          "output_type": "stream",
          "text": [
            "Discriminator(\n",
            "  (fc1): Linear(in_features=784, out_features=1024, bias=True)\n",
            "  (fc2): Linear(in_features=1024, out_features=512, bias=True)\n",
            "  (fc3): Linear(in_features=512, out_features=256, bias=True)\n",
            "  (fc4): Linear(in_features=256, out_features=1, bias=True)\n",
            "  (dropout): Dropout(p=0.3, inplace=False)\n",
            ")\n",
            "\n",
            "Generator(\n",
            "  (fc1): Linear(in_features=100, out_features=256, bias=True)\n",
            "  (fc2): Linear(in_features=256, out_features=512, bias=True)\n",
            "  (fc3): Linear(in_features=512, out_features=1024, bias=True)\n",
            "  (fc4): Linear(in_features=1024, out_features=784, bias=True)\n",
            "  (dropout): Dropout(p=0.3, inplace=False)\n",
            ")\n"
          ],
          "name": "stdout"
        }
      ]
    },
    {
      "cell_type": "code",
      "metadata": {
        "id": "e9wZn4eCY_Yv"
      },
      "source": [
        "# Calculate losses\n",
        "def real_loss(D_out, smooth=False):\n",
        "    batch_size = D_out.size(0)\n",
        "    # label smoothing\n",
        "    if smooth:\n",
        "        # smooth, real labels = 0.9\n",
        "        labels = torch.ones(batch_size) * 0.9\n",
        "    else:\n",
        "        labels = torch.ones(batch_size) # real labels = 1\n",
        "      \n",
        "    # numerically stable loss\n",
        "    criterion = nn.BCEWithLogitsLoss()\n",
        "    # calculate loss\n",
        "    loss = criterion(D_out.squeeze(), labels)\n",
        "    return loss\n",
        "\n",
        "def fake_loss(D_out):\n",
        "    batch_size = D_out.size(0)\n",
        "    labels = torch.zeros(batch_size) # fake labels = 0\n",
        "    criterion = nn.BCEWithLogitsLoss()\n",
        "    # calculate loss\n",
        "    loss = criterion(D_out.squeeze(), labels)\n",
        "    return loss"
      ],
      "execution_count": 48,
      "outputs": []
    },
    {
      "cell_type": "code",
      "metadata": {
        "id": "5kI07GdUZBAf"
      },
      "source": [
        "import torch.optim as optim\n",
        "\n",
        "# Optimizers\n",
        "lr = 0.0002\n",
        "\n",
        "# Create optimizers for the discriminator and generator\n",
        "d_optimizer = optim.Adam(D.parameters(), lr)\n",
        "g_optimizer = optim.Adam(G.parameters(), lr)"
      ],
      "execution_count": 49,
      "outputs": []
    },
    {
      "cell_type": "code",
      "metadata": {
        "id": "dO_pUejVZEnO",
        "colab": {
          "base_uri": "https://localhost:8080/"
        },
        "outputId": "1b4e34f9-53ae-4cd2-9b58-37652b5a9445"
      },
      "source": [
        "import pickle as pkl\n",
        "\n",
        "# training hyperparams\n",
        "num_epochs = 100\n",
        "\n",
        "# keep track of loss and generated, \"fake\" samples\n",
        "samples = []\n",
        "losses = []\n",
        "\n",
        "print_every = 400\n",
        "\n",
        "# Get some fixed data for sampling. These are images that are held\n",
        "# constant throughout training, and allow us to inspect the model's performance\n",
        "sample_size = 16\n",
        "fixed_z = np.random.uniform(-1, 1, size=(sample_size, z_size))\n",
        "fixed_z = torch.from_numpy(fixed_z).float()\n",
        "\n",
        "# train the network\n",
        "D.train()\n",
        "G.train()\n",
        "for epoch in range(num_epochs):\n",
        "    \n",
        "    for batch_i, (real_images, _) in enumerate(train_loader):\n",
        "        batch_size = real_images.size(0)\n",
        "        \n",
        "        ## Important rescaling step ## \n",
        "        real_images = real_images*2 - 1  # rescale input images from [0,1) to [-1, 1)\n",
        "        \n",
        "        # ============================================\n",
        "        #            TRAIN THE DISCRIMINATOR\n",
        "        # ============================================\n",
        "        \n",
        "        d_optimizer.zero_grad()\n",
        "        \n",
        "        # 1. Train with real images\n",
        "\n",
        "        # Compute the discriminator losses on real images \n",
        "        # smooth the real labels\n",
        "        D_real = D(real_images)\n",
        "        d_real_loss = real_loss(D_real, smooth=True)\n",
        "        \n",
        "        # 2. Train with fake images\n",
        "        \n",
        "        # Generate fake images\n",
        "        z = np.random.uniform(-1, 1, size=(batch_size, z_size))\n",
        "        z = torch.from_numpy(z).float()\n",
        "        fake_images = G(z)\n",
        "        \n",
        "        # Compute the discriminator losses on fake images        \n",
        "        D_fake = D(fake_images)\n",
        "        d_fake_loss = fake_loss(D_fake)\n",
        "        \n",
        "        # add up loss and perform backprop\n",
        "        d_loss = d_real_loss + d_fake_loss\n",
        "        d_loss.backward()\n",
        "        d_optimizer.step()\n",
        "        \n",
        "        \n",
        "        # =========================================\n",
        "        #            TRAIN THE GENERATOR\n",
        "        # =========================================\n",
        "        g_optimizer.zero_grad()\n",
        "        \n",
        "        # 1. Train with fake images and flipped labels\n",
        "        \n",
        "        # Generate fake images\n",
        "        z = np.random.uniform(-1, 1, size=(batch_size, z_size))\n",
        "        z = torch.from_numpy(z).float()\n",
        "        fake_images = G(z)\n",
        "        \n",
        "        # Compute the discriminator losses on fake images \n",
        "        # using flipped labels!\n",
        "        D_fake = D(fake_images)\n",
        "        g_loss = real_loss(D_fake) # use real loss to flip labels\n",
        "        \n",
        "        # perform backprop\n",
        "        g_loss.backward()\n",
        "        g_optimizer.step()\n",
        "\n",
        "        # Print some loss stats\n",
        "        if batch_i % print_every == 0:\n",
        "            # print discriminator and generator loss\n",
        "            print('Epoch [{:5d}/{:5d}] | d_loss: {:6.4f} | g_loss: {:6.4f}'.format(\n",
        "                    epoch+1, num_epochs, d_loss.item(), g_loss.item()))\n",
        "\n",
        "    \n",
        "    ## AFTER EACH EPOCH##\n",
        "    # append discriminator loss and generator loss\n",
        "    losses.append((d_loss.item(), g_loss.item()))\n",
        "    \n",
        "    # generate and save sample, fake images\n",
        "    G.eval() # eval mode for generating samples\n",
        "    samples_z = G(fixed_z)\n",
        "    samples.append(samples_z)\n",
        "    G.train() # back to train mode\n",
        "\n",
        "\n",
        "# Save training generator samples\n",
        "with open('train_samples.pkl', 'wb') as f:\n",
        "    pkl.dump(samples, f)"
      ],
      "execution_count": null,
      "outputs": [
        {
          "output_type": "stream",
          "text": [
            "/usr/local/lib/python3.6/dist-packages/torch/nn/functional.py:1628: UserWarning: nn.functional.tanh is deprecated. Use torch.tanh instead.\n",
            "  warnings.warn(\"nn.functional.tanh is deprecated. Use torch.tanh instead.\")\n"
          ],
          "name": "stderr"
        },
        {
          "output_type": "stream",
          "text": [
            "Epoch [    1/  100] | d_loss: 1.3703 | g_loss: 0.6984\n",
            "Epoch [    1/  100] | d_loss: 0.8855 | g_loss: 3.6303\n",
            "Epoch [    1/  100] | d_loss: 1.4391 | g_loss: 0.8618\n",
            "Epoch [    2/  100] | d_loss: 1.0104 | g_loss: 1.2337\n",
            "Epoch [    2/  100] | d_loss: 1.0252 | g_loss: 1.5216\n",
            "Epoch [    2/  100] | d_loss: 0.5416 | g_loss: 3.4576\n",
            "Epoch [    3/  100] | d_loss: 0.4424 | g_loss: 4.6437\n",
            "Epoch [    3/  100] | d_loss: 0.4744 | g_loss: 5.0513\n",
            "Epoch [    3/  100] | d_loss: 0.6439 | g_loss: 4.1531\n",
            "Epoch [    4/  100] | d_loss: 0.4612 | g_loss: 4.2584\n",
            "Epoch [    4/  100] | d_loss: 0.6622 | g_loss: 3.5314\n",
            "Epoch [    4/  100] | d_loss: 0.6480 | g_loss: 4.0125\n",
            "Epoch [    5/  100] | d_loss: 1.1015 | g_loss: 2.7061\n",
            "Epoch [    5/  100] | d_loss: 0.7298 | g_loss: 4.0088\n",
            "Epoch [    5/  100] | d_loss: 0.6193 | g_loss: 4.6366\n",
            "Epoch [    6/  100] | d_loss: 0.8587 | g_loss: 2.6070\n",
            "Epoch [    6/  100] | d_loss: 0.7746 | g_loss: 3.1539\n",
            "Epoch [    6/  100] | d_loss: 0.8524 | g_loss: 2.2157\n",
            "Epoch [    7/  100] | d_loss: 0.6562 | g_loss: 3.6524\n",
            "Epoch [    7/  100] | d_loss: 0.8320 | g_loss: 3.0912\n",
            "Epoch [    7/  100] | d_loss: 0.6848 | g_loss: 3.0689\n",
            "Epoch [    8/  100] | d_loss: 0.7992 | g_loss: 3.0682\n",
            "Epoch [    8/  100] | d_loss: 0.7020 | g_loss: 2.6974\n",
            "Epoch [    9/  100] | d_loss: 0.8158 | g_loss: 2.9113\n",
            "Epoch [    9/  100] | d_loss: 1.0006 | g_loss: 1.5557\n",
            "Epoch [    9/  100] | d_loss: 0.8334 | g_loss: 2.5794\n",
            "Epoch [   10/  100] | d_loss: 0.9880 | g_loss: 1.8816\n",
            "Epoch [   10/  100] | d_loss: 0.7700 | g_loss: 1.7090\n",
            "Epoch [   10/  100] | d_loss: 0.7472 | g_loss: 2.7586\n",
            "Epoch [   11/  100] | d_loss: 0.9402 | g_loss: 2.2158\n",
            "Epoch [   11/  100] | d_loss: 0.9486 | g_loss: 1.9518\n",
            "Epoch [   11/  100] | d_loss: 0.8032 | g_loss: 2.1288\n",
            "Epoch [   12/  100] | d_loss: 0.8210 | g_loss: 2.3345\n",
            "Epoch [   12/  100] | d_loss: 0.9198 | g_loss: 1.7722\n",
            "Epoch [   12/  100] | d_loss: 0.8099 | g_loss: 2.6715\n",
            "Epoch [   13/  100] | d_loss: 0.8328 | g_loss: 1.9128\n",
            "Epoch [   13/  100] | d_loss: 0.9683 | g_loss: 1.6911\n",
            "Epoch [   13/  100] | d_loss: 0.7232 | g_loss: 3.0783\n",
            "Epoch [   14/  100] | d_loss: 0.7261 | g_loss: 2.0094\n",
            "Epoch [   14/  100] | d_loss: 0.8269 | g_loss: 1.9779\n",
            "Epoch [   14/  100] | d_loss: 1.0620 | g_loss: 2.0396\n",
            "Epoch [   15/  100] | d_loss: 0.9627 | g_loss: 2.1758\n",
            "Epoch [   15/  100] | d_loss: 0.8866 | g_loss: 1.5949\n",
            "Epoch [   15/  100] | d_loss: 0.8759 | g_loss: 2.5292\n",
            "Epoch [   16/  100] | d_loss: 1.0037 | g_loss: 1.7421\n",
            "Epoch [   16/  100] | d_loss: 0.8954 | g_loss: 2.2424\n",
            "Epoch [   16/  100] | d_loss: 0.9086 | g_loss: 2.0506\n",
            "Epoch [   17/  100] | d_loss: 0.7503 | g_loss: 2.2210\n",
            "Epoch [   17/  100] | d_loss: 0.9272 | g_loss: 1.9225\n",
            "Epoch [   17/  100] | d_loss: 0.9007 | g_loss: 2.1081\n",
            "Epoch [   18/  100] | d_loss: 1.0380 | g_loss: 1.7480\n",
            "Epoch [   18/  100] | d_loss: 0.9472 | g_loss: 1.7093\n",
            "Epoch [   18/  100] | d_loss: 1.0294 | g_loss: 1.5625\n",
            "Epoch [   19/  100] | d_loss: 0.8714 | g_loss: 1.8459\n",
            "Epoch [   19/  100] | d_loss: 0.8576 | g_loss: 2.0260\n",
            "Epoch [   19/  100] | d_loss: 1.0640 | g_loss: 1.5527\n",
            "Epoch [   20/  100] | d_loss: 1.1984 | g_loss: 1.0814\n",
            "Epoch [   20/  100] | d_loss: 1.1591 | g_loss: 1.7208\n",
            "Epoch [   20/  100] | d_loss: 1.0808 | g_loss: 1.2812\n",
            "Epoch [   21/  100] | d_loss: 1.0704 | g_loss: 1.7258\n",
            "Epoch [   21/  100] | d_loss: 1.0871 | g_loss: 1.3525\n",
            "Epoch [   21/  100] | d_loss: 1.0485 | g_loss: 2.0407\n",
            "Epoch [   22/  100] | d_loss: 0.9553 | g_loss: 1.8500\n",
            "Epoch [   22/  100] | d_loss: 0.9566 | g_loss: 1.9012\n",
            "Epoch [   22/  100] | d_loss: 1.0924 | g_loss: 1.8857\n",
            "Epoch [   23/  100] | d_loss: 0.9332 | g_loss: 2.1768\n",
            "Epoch [   23/  100] | d_loss: 0.9658 | g_loss: 1.7567\n",
            "Epoch [   23/  100] | d_loss: 0.9729 | g_loss: 1.7162\n",
            "Epoch [   24/  100] | d_loss: 1.0307 | g_loss: 2.1709\n",
            "Epoch [   24/  100] | d_loss: 1.1640 | g_loss: 1.4819\n",
            "Epoch [   24/  100] | d_loss: 0.9816 | g_loss: 1.6228\n",
            "Epoch [   25/  100] | d_loss: 0.9279 | g_loss: 1.5903\n",
            "Epoch [   25/  100] | d_loss: 1.1837 | g_loss: 1.0770\n",
            "Epoch [   25/  100] | d_loss: 1.0182 | g_loss: 1.6126\n",
            "Epoch [   26/  100] | d_loss: 1.0740 | g_loss: 1.8614\n",
            "Epoch [   26/  100] | d_loss: 1.2020 | g_loss: 1.0587\n",
            "Epoch [   26/  100] | d_loss: 1.1510 | g_loss: 1.3498\n",
            "Epoch [   27/  100] | d_loss: 1.0350 | g_loss: 1.5921\n",
            "Epoch [   27/  100] | d_loss: 1.1879 | g_loss: 1.5569\n",
            "Epoch [   27/  100] | d_loss: 1.0527 | g_loss: 1.7414\n",
            "Epoch [   28/  100] | d_loss: 1.0481 | g_loss: 1.7236\n",
            "Epoch [   28/  100] | d_loss: 1.0905 | g_loss: 1.2865\n",
            "Epoch [   28/  100] | d_loss: 1.1020 | g_loss: 1.3415\n",
            "Epoch [   29/  100] | d_loss: 1.0427 | g_loss: 1.2656\n",
            "Epoch [   29/  100] | d_loss: 0.9683 | g_loss: 1.3552\n",
            "Epoch [   29/  100] | d_loss: 1.1714 | g_loss: 1.1329\n",
            "Epoch [   30/  100] | d_loss: 1.0816 | g_loss: 1.8636\n",
            "Epoch [   30/  100] | d_loss: 1.1566 | g_loss: 1.2657\n",
            "Epoch [   30/  100] | d_loss: 1.1010 | g_loss: 1.8202\n",
            "Epoch [   31/  100] | d_loss: 1.1604 | g_loss: 1.3102\n",
            "Epoch [   31/  100] | d_loss: 1.0634 | g_loss: 1.6112\n",
            "Epoch [   31/  100] | d_loss: 1.1241 | g_loss: 1.4792\n",
            "Epoch [   32/  100] | d_loss: 1.3169 | g_loss: 1.5073\n",
            "Epoch [   32/  100] | d_loss: 1.0586 | g_loss: 1.6978\n",
            "Epoch [   32/  100] | d_loss: 1.1618 | g_loss: 1.2888\n",
            "Epoch [   33/  100] | d_loss: 1.0684 | g_loss: 1.4710\n",
            "Epoch [   33/  100] | d_loss: 1.0944 | g_loss: 1.5257\n",
            "Epoch [   33/  100] | d_loss: 1.0694 | g_loss: 1.1812\n",
            "Epoch [   34/  100] | d_loss: 1.1876 | g_loss: 1.2954\n",
            "Epoch [   34/  100] | d_loss: 1.1520 | g_loss: 1.2131\n",
            "Epoch [   34/  100] | d_loss: 1.0572 | g_loss: 1.3617\n",
            "Epoch [   35/  100] | d_loss: 1.1869 | g_loss: 1.4764\n",
            "Epoch [   35/  100] | d_loss: 1.1875 | g_loss: 1.2348\n",
            "Epoch [   35/  100] | d_loss: 0.9561 | g_loss: 1.5807\n",
            "Epoch [   36/  100] | d_loss: 1.1054 | g_loss: 1.5543\n",
            "Epoch [   36/  100] | d_loss: 1.1794 | g_loss: 1.3805\n",
            "Epoch [   36/  100] | d_loss: 1.1233 | g_loss: 1.3719\n",
            "Epoch [   37/  100] | d_loss: 1.1456 | g_loss: 1.5166\n",
            "Epoch [   37/  100] | d_loss: 1.1470 | g_loss: 1.6985\n",
            "Epoch [   37/  100] | d_loss: 1.1538 | g_loss: 1.2336\n",
            "Epoch [   38/  100] | d_loss: 1.1979 | g_loss: 1.1692\n",
            "Epoch [   38/  100] | d_loss: 1.0752 | g_loss: 1.3998\n",
            "Epoch [   38/  100] | d_loss: 1.0825 | g_loss: 1.4846\n",
            "Epoch [   39/  100] | d_loss: 1.0729 | g_loss: 1.2964\n",
            "Epoch [   39/  100] | d_loss: 1.1269 | g_loss: 1.5099\n",
            "Epoch [   39/  100] | d_loss: 1.2026 | g_loss: 1.0837\n",
            "Epoch [   40/  100] | d_loss: 1.1760 | g_loss: 1.1597\n",
            "Epoch [   40/  100] | d_loss: 1.1992 | g_loss: 1.4496\n",
            "Epoch [   40/  100] | d_loss: 1.0282 | g_loss: 1.4517\n",
            "Epoch [   41/  100] | d_loss: 1.2001 | g_loss: 1.0885\n",
            "Epoch [   41/  100] | d_loss: 1.1740 | g_loss: 1.6578\n",
            "Epoch [   41/  100] | d_loss: 1.1205 | g_loss: 1.4322\n",
            "Epoch [   42/  100] | d_loss: 1.1683 | g_loss: 1.5469\n",
            "Epoch [   42/  100] | d_loss: 1.1384 | g_loss: 1.3683\n",
            "Epoch [   42/  100] | d_loss: 1.2589 | g_loss: 1.1587\n",
            "Epoch [   43/  100] | d_loss: 1.0368 | g_loss: 1.4914\n",
            "Epoch [   43/  100] | d_loss: 1.1561 | g_loss: 1.3212\n",
            "Epoch [   43/  100] | d_loss: 1.2077 | g_loss: 1.1701\n",
            "Epoch [   44/  100] | d_loss: 1.3992 | g_loss: 1.3372\n",
            "Epoch [   44/  100] | d_loss: 1.1995 | g_loss: 1.1105\n",
            "Epoch [   44/  100] | d_loss: 1.2682 | g_loss: 1.1969\n",
            "Epoch [   45/  100] | d_loss: 1.0783 | g_loss: 1.4763\n",
            "Epoch [   45/  100] | d_loss: 1.0623 | g_loss: 1.4354\n",
            "Epoch [   45/  100] | d_loss: 1.1544 | g_loss: 1.6867\n",
            "Epoch [   46/  100] | d_loss: 1.1659 | g_loss: 1.8907\n",
            "Epoch [   46/  100] | d_loss: 0.9930 | g_loss: 1.6513\n",
            "Epoch [   46/  100] | d_loss: 1.0096 | g_loss: 1.1415\n",
            "Epoch [   47/  100] | d_loss: 1.0802 | g_loss: 1.6181\n",
            "Epoch [   47/  100] | d_loss: 1.1285 | g_loss: 1.1339\n",
            "Epoch [   47/  100] | d_loss: 1.0101 | g_loss: 1.4055\n",
            "Epoch [   48/  100] | d_loss: 1.2254 | g_loss: 0.9765\n",
            "Epoch [   48/  100] | d_loss: 1.2246 | g_loss: 1.1983\n",
            "Epoch [   48/  100] | d_loss: 1.1314 | g_loss: 1.3265\n",
            "Epoch [   49/  100] | d_loss: 1.2169 | g_loss: 1.1316\n",
            "Epoch [   49/  100] | d_loss: 1.1332 | g_loss: 1.3424\n",
            "Epoch [   49/  100] | d_loss: 1.1164 | g_loss: 1.3703\n",
            "Epoch [   50/  100] | d_loss: 1.1429 | g_loss: 1.0585\n",
            "Epoch [   50/  100] | d_loss: 1.1671 | g_loss: 1.2177\n",
            "Epoch [   50/  100] | d_loss: 1.2613 | g_loss: 1.2199\n",
            "Epoch [   51/  100] | d_loss: 1.1972 | g_loss: 1.2336\n",
            "Epoch [   51/  100] | d_loss: 1.1510 | g_loss: 1.5729\n",
            "Epoch [   51/  100] | d_loss: 1.1369 | g_loss: 1.2719\n",
            "Epoch [   52/  100] | d_loss: 1.0380 | g_loss: 1.1849\n",
            "Epoch [   52/  100] | d_loss: 1.1495 | g_loss: 1.4757\n",
            "Epoch [   52/  100] | d_loss: 1.0733 | g_loss: 1.4491\n",
            "Epoch [   53/  100] | d_loss: 1.1275 | g_loss: 1.0520\n",
            "Epoch [   53/  100] | d_loss: 1.0865 | g_loss: 1.4197\n",
            "Epoch [   53/  100] | d_loss: 1.1762 | g_loss: 1.3389\n",
            "Epoch [   54/  100] | d_loss: 1.2342 | g_loss: 0.9448\n",
            "Epoch [   54/  100] | d_loss: 1.2785 | g_loss: 1.1144\n",
            "Epoch [   54/  100] | d_loss: 1.0939 | g_loss: 1.4518\n",
            "Epoch [   55/  100] | d_loss: 1.1037 | g_loss: 1.7103\n",
            "Epoch [   55/  100] | d_loss: 1.1458 | g_loss: 1.4030\n",
            "Epoch [   55/  100] | d_loss: 1.2909 | g_loss: 1.1174\n",
            "Epoch [   56/  100] | d_loss: 1.1562 | g_loss: 1.3269\n",
            "Epoch [   56/  100] | d_loss: 1.0569 | g_loss: 1.3180\n",
            "Epoch [   56/  100] | d_loss: 1.0922 | g_loss: 1.2980\n",
            "Epoch [   57/  100] | d_loss: 1.0965 | g_loss: 1.5185\n",
            "Epoch [   57/  100] | d_loss: 1.1988 | g_loss: 1.2911\n",
            "Epoch [   57/  100] | d_loss: 1.1550 | g_loss: 1.3362\n",
            "Epoch [   58/  100] | d_loss: 1.0748 | g_loss: 1.3453\n",
            "Epoch [   58/  100] | d_loss: 1.0856 | g_loss: 1.2666\n",
            "Epoch [   58/  100] | d_loss: 1.1594 | g_loss: 1.4520\n",
            "Epoch [   59/  100] | d_loss: 1.3409 | g_loss: 1.0266\n",
            "Epoch [   59/  100] | d_loss: 1.3373 | g_loss: 0.7235\n",
            "Epoch [   59/  100] | d_loss: 1.2090 | g_loss: 1.1385\n",
            "Epoch [   60/  100] | d_loss: 1.1350 | g_loss: 1.2878\n"
          ],
          "name": "stdout"
        }
      ]
    },
    {
      "cell_type": "code",
      "metadata": {
        "id": "uVo6axz4ZG9h",
        "colab": {
          "base_uri": "https://localhost:8080/",
          "height": 297
        },
        "outputId": "d11eee2a-94a9-4ca9-a0e4-8bc628f9cb9a"
      },
      "source": [
        "# Plot Discriminator and Generator Loss vs. Epochs\n",
        "fig, ax = plt.subplots()\n",
        "losses = np.array(losses)\n",
        "plt.plot(losses.T[0], label='Discriminator')\n",
        "plt.plot(losses.T[1], label='Generator')\n",
        "plt.title(\"Training Losses\")\n",
        "plt.legend()"
      ],
      "execution_count": 42,
      "outputs": [
        {
          "output_type": "execute_result",
          "data": {
            "text/plain": [
              "<matplotlib.legend.Legend at 0x7fb5110b3400>"
            ]
          },
          "metadata": {
            "tags": []
          },
          "execution_count": 42
        },
        {
          "output_type": "display_data",
          "data": {
            "image/png": "[encoded data removed]",
            "text/plain": [
              "<Figure size 432x288 with 1 Axes>"
            ]
          },
          "metadata": {
            "tags": [],
            "needs_background": "light"
          }
        }
      ]
    },
    {
      "cell_type": "code",
      "metadata": {
        "id": "ZCF08qAjZIhX"
      },
      "source": [
        "# helper function for viewing a list of passed in sample images\n",
        "def view_samples(epoch, samples):\n",
        "    fig, axes = plt.subplots(figsize=(7,7), nrows=4, ncols=4, sharey=True, sharex=True)\n",
        "    for ax, img in zip(axes.flatten(), samples[epoch]):\n",
        "        img = img.detach()\n",
        "        ax.xaxis.set_visible(False)\n",
        "        ax.yaxis.set_visible(False)\n",
        "        im = ax.imshow(img.reshape((28,28)), cmap='Greys_r')"
      ],
      "execution_count": 43,
      "outputs": []
    },
    {
      "cell_type": "code",
      "metadata": {
        "id": "ymZEibqCZJrY"
      },
      "source": [
        "# Load samples from generator, taken while training\n",
        "with open('train_samples.pkl', 'rb') as f:\n",
        "    samples = pkl.load(f)"
      ],
      "execution_count": 44,
      "outputs": []
    },
    {
      "cell_type": "code",
      "metadata": {
        "id": "eHgE8KoBZLIz",
        "colab": {
          "base_uri": "https://localhost:8080/",
          "height": 414
        },
        "outputId": "8fc169b0-ed72-4356-800d-faf125d51923"
      },
      "source": [
        "# -1 indicates final epoch's samples (the last in the list)\n",
        "view_samples(-1, samples)"
      ],
      "execution_count": 45,
      "outputs": [
        {
          "output_type": "display_data",
          "data": {
            "image/png": "[encoded data removed]",
            "text/plain": [
              "<Figure size 504x504 with 16 Axes>"
            ]
          },
          "metadata": {
            "tags": [],
            "needs_background": "light"
          }
        }
      ]
    },
    {
      "cell_type": "code",
      "metadata": {
        "id": "fTuARpTfZOEj",
        "colab": {
          "base_uri": "https://localhost:8080/",
          "height": 449
        },
        "outputId": "9d012ea1-0a95-429c-f973-9baa4641d1ec"
      },
      "source": [
        "# randomly generated, new latent vectors\n",
        "sample_size=16\n",
        "rand_z = np.random.uniform(-1, 1, size=(sample_size, z_size))\n",
        "rand_z = torch.from_numpy(rand_z).float()\n",
        "\n",
        "G.eval() # eval mode\n",
        "# generated samples\n",
        "rand_images = G(rand_z)\n",
        "\n",
        "# 0 indicates the first set of samples in the passed in list\n",
        "# and we only have one batch of samples, here\n",
        "view_samples(0, [rand_images])"
      ],
      "execution_count": 46,
      "outputs": [
        {
          "output_type": "stream",
          "text": [
            "/usr/local/lib/python3.6/dist-packages/torch/nn/functional.py:1628: UserWarning: nn.functional.tanh is deprecated. Use torch.tanh instead.\n",
            "  warnings.warn(\"nn.functional.tanh is deprecated. Use torch.tanh instead.\")\n"
          ],
          "name": "stderr"
        },
        {
          "output_type": "display_data",
          "data": {
            "image/png": "[encoded data removed]",
            "text/plain": [
              "<Figure size 504x504 with 16 Axes>"
            ]
          },
          "metadata": {
            "tags": [],
            "needs_background": "light"
          }
        }
      ]
    }
  ]
}