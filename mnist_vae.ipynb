{
  "nbformat": 4,
  "nbformat_minor": 0,
  "metadata": {
    "colab": {
      "name": "mnist-vae.ipynb",
      "provenance": [],
      "collapsed_sections": []
    },
    "kernelspec": {
      "name": "python3",
      "display_name": "Python 3"
    },
    "widgets": {
      "application/vnd.jupyter.widget-state+json": {
        "5d7edb6d67dc49859bf5e1630559e254": {
          "model_module": "@jupyter-widgets/controls",
          "model_name": "HBoxModel",
          "state": {
            "_view_name": "HBoxView",
            "_dom_classes": [],
            "_model_name": "HBoxModel",
            "_view_module": "@jupyter-widgets/controls",
            "_model_module_version": "1.5.0",
            "_view_count": null,
            "_view_module_version": "1.5.0",
            "box_style": "",
            "layout": "IPY_MODEL_455957e2e6c241e49b000ea1463fafa8",
            "_model_module": "@jupyter-widgets/controls",
            "children": [
              "IPY_MODEL_5164d533c6914bb7814e8b225d8d1b05",
              "IPY_MODEL_00ce32d8d97742329187d23dfea980e7"
            ]
          }
        },
        "455957e2e6c241e49b000ea1463fafa8": {
          "model_module": "@jupyter-widgets/base",
          "model_name": "LayoutModel",
          "state": {
            "_view_name": "LayoutView",
            "grid_template_rows": null,
            "right": null,
            "justify_content": null,
            "_view_module": "@jupyter-widgets/base",
            "overflow": null,
            "_model_module_version": "1.2.0",
            "_view_count": null,
            "flex_flow": null,
            "width": null,
            "min_width": null,
            "border": null,
            "align_items": null,
            "bottom": null,
            "_model_module": "@jupyter-widgets/base",
            "top": null,
            "grid_column": null,
            "overflow_y": null,
            "overflow_x": null,
            "grid_auto_flow": null,
            "grid_area": null,
            "grid_template_columns": null,
            "flex": null,
            "_model_name": "LayoutModel",
            "justify_items": null,
            "grid_row": null,
            "max_height": null,
            "align_content": null,
            "visibility": null,
            "align_self": null,
            "height": null,
            "min_height": null,
            "padding": null,
            "grid_auto_rows": null,
            "grid_gap": null,
            "max_width": null,
            "order": null,
            "_view_module_version": "1.2.0",
            "grid_template_areas": null,
            "object_position": null,
            "object_fit": null,
            "grid_auto_columns": null,
            "margin": null,
            "display": null,
            "left": null
          }
        },
        "5164d533c6914bb7814e8b225d8d1b05": {
          "model_module": "@jupyter-widgets/controls",
          "model_name": "FloatProgressModel",
          "state": {
            "_view_name": "ProgressView",
            "style": "IPY_MODEL_680936ab51994be7968daff1f87be8ca",
            "_dom_classes": [],
            "description": "",
            "_model_name": "FloatProgressModel",
            "bar_style": "success",
            "max": 1,
            "_view_module": "@jupyter-widgets/controls",
            "_model_module_version": "1.5.0",
            "value": 1,
            "_view_count": null,
            "_view_module_version": "1.5.0",
            "orientation": "horizontal",
            "min": 0,
            "description_tooltip": null,
            "_model_module": "@jupyter-widgets/controls",
            "layout": "IPY_MODEL_5d7060cf842e473aac342c02b05d504a"
          }
        },
        "00ce32d8d97742329187d23dfea980e7": {
          "model_module": "@jupyter-widgets/controls",
          "model_name": "HTMLModel",
          "state": {
            "_view_name": "HTMLView",
            "style": "IPY_MODEL_6d4bd6b1987749d693db3c8fe0c28cd0",
            "_dom_classes": [],
            "description": "",
            "_model_name": "HTMLModel",
            "placeholder": "​",
            "_view_module": "@jupyter-widgets/controls",
            "_model_module_version": "1.5.0",
            "value": " 9920512/? [00:01&lt;00:00, 5506420.79it/s]",
            "_view_count": null,
            "_view_module_version": "1.5.0",
            "description_tooltip": null,
            "_model_module": "@jupyter-widgets/controls",
            "layout": "IPY_MODEL_fa3c62a9aa5f455ba2dd268d0e38b5d3"
          }
        },
        "680936ab51994be7968daff1f87be8ca": {
          "model_module": "@jupyter-widgets/controls",
          "model_name": "ProgressStyleModel",
          "state": {
            "_view_name": "StyleView",
            "_model_name": "ProgressStyleModel",
            "description_width": "initial",
            "_view_module": "@jupyter-widgets/base",
            "_model_module_version": "1.5.0",
            "_view_count": null,
            "_view_module_version": "1.2.0",
            "bar_color": null,
            "_model_module": "@jupyter-widgets/controls"
          }
        },
        "5d7060cf842e473aac342c02b05d504a": {
          "model_module": "@jupyter-widgets/base",
          "model_name": "LayoutModel",
          "state": {
            "_view_name": "LayoutView",
            "grid_template_rows": null,
            "right": null,
            "justify_content": null,
            "_view_module": "@jupyter-widgets/base",
            "overflow": null,
            "_model_module_version": "1.2.0",
            "_view_count": null,
            "flex_flow": null,
            "width": null,
            "min_width": null,
            "border": null,
            "align_items": null,
            "bottom": null,
            "_model_module": "@jupyter-widgets/base",
            "top": null,
            "grid_column": null,
            "overflow_y": null,
            "overflow_x": null,
            "grid_auto_flow": null,
            "grid_area": null,
            "grid_template_columns": null,
            "flex": null,
            "_model_name": "LayoutModel",
            "justify_items": null,
            "grid_row": null,
            "max_height": null,
            "align_content": null,
            "visibility": null,
            "align_self": null,
            "height": null,
            "min_height": null,
            "padding": null,
            "grid_auto_rows": null,
            "grid_gap": null,
            "max_width": null,
            "order": null,
            "_view_module_version": "1.2.0",
            "grid_template_areas": null,
            "object_position": null,
            "object_fit": null,
            "grid_auto_columns": null,
            "margin": null,
            "display": null,
            "left": null
          }
        },
        "6d4bd6b1987749d693db3c8fe0c28cd0": {
          "model_module": "@jupyter-widgets/controls",
          "model_name": "DescriptionStyleModel",
          "state": {
            "_view_name": "StyleView",
            "_model_name": "DescriptionStyleModel",
            "description_width": "",
            "_view_module": "@jupyter-widgets/base",
            "_model_module_version": "1.5.0",
            "_view_count": null,
            "_view_module_version": "1.2.0",
            "_model_module": "@jupyter-widgets/controls"
          }
        },
        "fa3c62a9aa5f455ba2dd268d0e38b5d3": {
          "model_module": "@jupyter-widgets/base",
          "model_name": "LayoutModel",
          "state": {
            "_view_name": "LayoutView",
            "grid_template_rows": null,
            "right": null,
            "justify_content": null,
            "_view_module": "@jupyter-widgets/base",
            "overflow": null,
            "_model_module_version": "1.2.0",
            "_view_count": null,
            "flex_flow": null,
            "width": null,
            "min_width": null,
            "border": null,
            "align_items": null,
            "bottom": null,
            "_model_module": "@jupyter-widgets/base",
            "top": null,
            "grid_column": null,
            "overflow_y": null,
            "overflow_x": null,
            "grid_auto_flow": null,
            "grid_area": null,
            "grid_template_columns": null,
            "flex": null,
            "_model_name": "LayoutModel",
            "justify_items": null,
            "grid_row": null,
            "max_height": null,
            "align_content": null,
            "visibility": null,
            "align_self": null,
            "height": null,
            "min_height": null,
            "padding": null,
            "grid_auto_rows": null,
            "grid_gap": null,
            "max_width": null,
            "order": null,
            "_view_module_version": "1.2.0",
            "grid_template_areas": null,
            "object_position": null,
            "object_fit": null,
            "grid_auto_columns": null,
            "margin": null,
            "display": null,
            "left": null
          }
        },
        "cd1a390c76b84a8091300c633db7d830": {
          "model_module": "@jupyter-widgets/controls",
          "model_name": "HBoxModel",
          "state": {
            "_view_name": "HBoxView",
            "_dom_classes": [],
            "_model_name": "HBoxModel",
            "_view_module": "@jupyter-widgets/controls",
            "_model_module_version": "1.5.0",
            "_view_count": null,
            "_view_module_version": "1.5.0",
            "box_style": "",
            "layout": "IPY_MODEL_d1ab40c0ddd64401a08a0ee2c3b19a78",
            "_model_module": "@jupyter-widgets/controls",
            "children": [
              "IPY_MODEL_d38d5b61d9974e83849bf9c750ee82dc",
              "IPY_MODEL_0ed2742aed394e9abf0f7426f46126fd"
            ]
          }
        },
        "d1ab40c0ddd64401a08a0ee2c3b19a78": {
          "model_module": "@jupyter-widgets/base",
          "model_name": "LayoutModel",
          "state": {
            "_view_name": "LayoutView",
            "grid_template_rows": null,
            "right": null,
            "justify_content": null,
            "_view_module": "@jupyter-widgets/base",
            "overflow": null,
            "_model_module_version": "1.2.0",
            "_view_count": null,
            "flex_flow": null,
            "width": null,
            "min_width": null,
            "border": null,
            "align_items": null,
            "bottom": null,
            "_model_module": "@jupyter-widgets/base",
            "top": null,
            "grid_column": null,
            "overflow_y": null,
            "overflow_x": null,
            "grid_auto_flow": null,
            "grid_area": null,
            "grid_template_columns": null,
            "flex": null,
            "_model_name": "LayoutModel",
            "justify_items": null,
            "grid_row": null,
            "max_height": null,
            "align_content": null,
            "visibility": null,
            "align_self": null,
            "height": null,
            "min_height": null,
            "padding": null,
            "grid_auto_rows": null,
            "grid_gap": null,
            "max_width": null,
            "order": null,
            "_view_module_version": "1.2.0",
            "grid_template_areas": null,
            "object_position": null,
            "object_fit": null,
            "grid_auto_columns": null,
            "margin": null,
            "display": null,
            "left": null
          }
        },
        "d38d5b61d9974e83849bf9c750ee82dc": {
          "model_module": "@jupyter-widgets/controls",
          "model_name": "FloatProgressModel",
          "state": {
            "_view_name": "ProgressView",
            "style": "IPY_MODEL_7310b06cb6814dc29ae9467b03307a18",
            "_dom_classes": [],
            "description": "",
            "_model_name": "FloatProgressModel",
            "bar_style": "success",
            "max": 1,
            "_view_module": "@jupyter-widgets/controls",
            "_model_module_version": "1.5.0",
            "value": 1,
            "_view_count": null,
            "_view_module_version": "1.5.0",
            "orientation": "horizontal",
            "min": 0,
            "description_tooltip": null,
            "_model_module": "@jupyter-widgets/controls",
            "layout": "IPY_MODEL_b177b4851ff3445fa42c5e52c03f0235"
          }
        },
        "0ed2742aed394e9abf0f7426f46126fd": {
          "model_module": "@jupyter-widgets/controls",
          "model_name": "HTMLModel",
          "state": {
            "_view_name": "HTMLView",
            "style": "IPY_MODEL_d10e50aa3ada437e822cbee33ea06b55",
            "_dom_classes": [],
            "description": "",
            "_model_name": "HTMLModel",
            "placeholder": "​",
            "_view_module": "@jupyter-widgets/controls",
            "_model_module_version": "1.5.0",
            "value": " 32768/? [00:00&lt;00:00, 112863.49it/s]",
            "_view_count": null,
            "_view_module_version": "1.5.0",
            "description_tooltip": null,
            "_model_module": "@jupyter-widgets/controls",
            "layout": "IPY_MODEL_579d322124434684b8497e7fe022e740"
          }
        },
        "7310b06cb6814dc29ae9467b03307a18": {
          "model_module": "@jupyter-widgets/controls",
          "model_name": "ProgressStyleModel",
          "state": {
            "_view_name": "StyleView",
            "_model_name": "ProgressStyleModel",
            "description_width": "initial",
            "_view_module": "@jupyter-widgets/base",
            "_model_module_version": "1.5.0",
            "_view_count": null,
            "_view_module_version": "1.2.0",
            "bar_color": null,
            "_model_module": "@jupyter-widgets/controls"
          }
        },
        "b177b4851ff3445fa42c5e52c03f0235": {
          "model_module": "@jupyter-widgets/base",
          "model_name": "LayoutModel",
          "state": {
            "_view_name": "LayoutView",
            "grid_template_rows": null,
            "right": null,
            "justify_content": null,
            "_view_module": "@jupyter-widgets/base",
            "overflow": null,
            "_model_module_version": "1.2.0",
            "_view_count": null,
            "flex_flow": null,
            "width": null,
            "min_width": null,
            "border": null,
            "align_items": null,
            "bottom": null,
            "_model_module": "@jupyter-widgets/base",
            "top": null,
            "grid_column": null,
            "overflow_y": null,
            "overflow_x": null,
            "grid_auto_flow": null,
            "grid_area": null,
            "grid_template_columns": null,
            "flex": null,
            "_model_name": "LayoutModel",
            "justify_items": null,
            "grid_row": null,
            "max_height": null,
            "align_content": null,
            "visibility": null,
            "align_self": null,
            "height": null,
            "min_height": null,
            "padding": null,
            "grid_auto_rows": null,
            "grid_gap": null,
            "max_width": null,
            "order": null,
            "_view_module_version": "1.2.0",
            "grid_template_areas": null,
            "object_position": null,
            "object_fit": null,
            "grid_auto_columns": null,
            "margin": null,
            "display": null,
            "left": null
          }
        },
        "d10e50aa3ada437e822cbee33ea06b55": {
          "model_module": "@jupyter-widgets/controls",
          "model_name": "DescriptionStyleModel",
          "state": {
            "_view_name": "StyleView",
            "_model_name": "DescriptionStyleModel",
            "description_width": "",
            "_view_module": "@jupyter-widgets/base",
            "_model_module_version": "1.5.0",
            "_view_count": null,
            "_view_module_version": "1.2.0",
            "_model_module": "@jupyter-widgets/controls"
          }
        },
        "579d322124434684b8497e7fe022e740": {
          "model_module": "@jupyter-widgets/base",
          "model_name": "LayoutModel",
          "state": {
            "_view_name": "LayoutView",
            "grid_template_rows": null,
            "right": null,
            "justify_content": null,
            "_view_module": "@jupyter-widgets/base",
            "overflow": null,
            "_model_module_version": "1.2.0",
            "_view_count": null,
            "flex_flow": null,
            "width": null,
            "min_width": null,
            "border": null,
            "align_items": null,
            "bottom": null,
            "_model_module": "@jupyter-widgets/base",
            "top": null,
            "grid_column": null,
            "overflow_y": null,
            "overflow_x": null,
            "grid_auto_flow": null,
            "grid_area": null,
            "grid_template_columns": null,
            "flex": null,
            "_model_name": "LayoutModel",
            "justify_items": null,
            "grid_row": null,
            "max_height": null,
            "align_content": null,
            "visibility": null,
            "align_self": null,
            "height": null,
            "min_height": null,
            "padding": null,
            "grid_auto_rows": null,
            "grid_gap": null,
            "max_width": null,
            "order": null,
            "_view_module_version": "1.2.0",
            "grid_template_areas": null,
            "object_position": null,
            "object_fit": null,
            "grid_auto_columns": null,
            "margin": null,
            "display": null,
            "left": null
          }
        },
        "ffe1f0a1293b45c89603382e4defa1a7": {
          "model_module": "@jupyter-widgets/controls",
          "model_name": "HBoxModel",
          "state": {
            "_view_name": "HBoxView",
            "_dom_classes": [],
            "_model_name": "HBoxModel",
            "_view_module": "@jupyter-widgets/controls",
            "_model_module_version": "1.5.0",
            "_view_count": null,
            "_view_module_version": "1.5.0",
            "box_style": "",
            "layout": "IPY_MODEL_e41454f9306b42488952ae02ffc37f41",
            "_model_module": "@jupyter-widgets/controls",
            "children": [
              "IPY_MODEL_4b573a66c18b40e3ab1c6f98866d6770",
              "IPY_MODEL_f4a76050d2b7453896b190cd9d4ce749"
            ]
          }
        },
        "e41454f9306b42488952ae02ffc37f41": {
          "model_module": "@jupyter-widgets/base",
          "model_name": "LayoutModel",
          "state": {
            "_view_name": "LayoutView",
            "grid_template_rows": null,
            "right": null,
            "justify_content": null,
            "_view_module": "@jupyter-widgets/base",
            "overflow": null,
            "_model_module_version": "1.2.0",
            "_view_count": null,
            "flex_flow": null,
            "width": null,
            "min_width": null,
            "border": null,
            "align_items": null,
            "bottom": null,
            "_model_module": "@jupyter-widgets/base",
            "top": null,
            "grid_column": null,
            "overflow_y": null,
            "overflow_x": null,
            "grid_auto_flow": null,
            "grid_area": null,
            "grid_template_columns": null,
            "flex": null,
            "_model_name": "LayoutModel",
            "justify_items": null,
            "grid_row": null,
            "max_height": null,
            "align_content": null,
            "visibility": null,
            "align_self": null,
            "height": null,
            "min_height": null,
            "padding": null,
            "grid_auto_rows": null,
            "grid_gap": null,
            "max_width": null,
            "order": null,
            "_view_module_version": "1.2.0",
            "grid_template_areas": null,
            "object_position": null,
            "object_fit": null,
            "grid_auto_columns": null,
            "margin": null,
            "display": null,
            "left": null
          }
        },
        "4b573a66c18b40e3ab1c6f98866d6770": {
          "model_module": "@jupyter-widgets/controls",
          "model_name": "FloatProgressModel",
          "state": {
            "_view_name": "ProgressView",
            "style": "IPY_MODEL_c8a823175d974f118ded7c5dc94d8520",
            "_dom_classes": [],
            "description": "",
            "_model_name": "FloatProgressModel",
            "bar_style": "info",
            "max": 1,
            "_view_module": "@jupyter-widgets/controls",
            "_model_module_version": "1.5.0",
            "value": 1,
            "_view_count": null,
            "_view_module_version": "1.5.0",
            "orientation": "horizontal",
            "min": 0,
            "description_tooltip": null,
            "_model_module": "@jupyter-widgets/controls",
            "layout": "IPY_MODEL_389068b6aa0349f88a5a797cc1985369"
          }
        },
        "f4a76050d2b7453896b190cd9d4ce749": {
          "model_module": "@jupyter-widgets/controls",
          "model_name": "HTMLModel",
          "state": {
            "_view_name": "HTMLView",
            "style": "IPY_MODEL_6099902b7d2345afb6c6a49772cc3a89",
            "_dom_classes": [],
            "description": "",
            "_model_name": "HTMLModel",
            "placeholder": "​",
            "_view_module": "@jupyter-widgets/controls",
            "_model_module_version": "1.5.0",
            "value": " 1654784/? [00:18&lt;00:00, 530893.48it/s]",
            "_view_count": null,
            "_view_module_version": "1.5.0",
            "description_tooltip": null,
            "_model_module": "@jupyter-widgets/controls",
            "layout": "IPY_MODEL_0a6c2b51af1a4864b53dea085ab7b907"
          }
        },
        "c8a823175d974f118ded7c5dc94d8520": {
          "model_module": "@jupyter-widgets/controls",
          "model_name": "ProgressStyleModel",
          "state": {
            "_view_name": "StyleView",
            "_model_name": "ProgressStyleModel",
            "description_width": "initial",
            "_view_module": "@jupyter-widgets/base",
            "_model_module_version": "1.5.0",
            "_view_count": null,
            "_view_module_version": "1.2.0",
            "bar_color": null,
            "_model_module": "@jupyter-widgets/controls"
          }
        },
        "389068b6aa0349f88a5a797cc1985369": {
          "model_module": "@jupyter-widgets/base",
          "model_name": "LayoutModel",
          "state": {
            "_view_name": "LayoutView",
            "grid_template_rows": null,
            "right": null,
            "justify_content": null,
            "_view_module": "@jupyter-widgets/base",
            "overflow": null,
            "_model_module_version": "1.2.0",
            "_view_count": null,
            "flex_flow": null,
            "width": null,
            "min_width": null,
            "border": null,
            "align_items": null,
            "bottom": null,
            "_model_module": "@jupyter-widgets/base",
            "top": null,
            "grid_column": null,
            "overflow_y": null,
            "overflow_x": null,
            "grid_auto_flow": null,
            "grid_area": null,
            "grid_template_columns": null,
            "flex": null,
            "_model_name": "LayoutModel",
            "justify_items": null,
            "grid_row": null,
            "max_height": null,
            "align_content": null,
            "visibility": null,
            "align_self": null,
            "height": null,
            "min_height": null,
            "padding": null,
            "grid_auto_rows": null,
            "grid_gap": null,
            "max_width": null,
            "order": null,
            "_view_module_version": "1.2.0",
            "grid_template_areas": null,
            "object_position": null,
            "object_fit": null,
            "grid_auto_columns": null,
            "margin": null,
            "display": null,
            "left": null
          }
        },
        "6099902b7d2345afb6c6a49772cc3a89": {
          "model_module": "@jupyter-widgets/controls",
          "model_name": "DescriptionStyleModel",
          "state": {
            "_view_name": "StyleView",
            "_model_name": "DescriptionStyleModel",
            "description_width": "",
            "_view_module": "@jupyter-widgets/base",
            "_model_module_version": "1.5.0",
            "_view_count": null,
            "_view_module_version": "1.2.0",
            "_model_module": "@jupyter-widgets/controls"
          }
        },
        "0a6c2b51af1a4864b53dea085ab7b907": {
          "model_module": "@jupyter-widgets/base",
          "model_name": "LayoutModel",
          "state": {
            "_view_name": "LayoutView",
            "grid_template_rows": null,
            "right": null,
            "justify_content": null,
            "_view_module": "@jupyter-widgets/base",
            "overflow": null,
            "_model_module_version": "1.2.0",
            "_view_count": null,
            "flex_flow": null,
            "width": null,
            "min_width": null,
            "border": null,
            "align_items": null,
            "bottom": null,
            "_model_module": "@jupyter-widgets/base",
            "top": null,
            "grid_column": null,
            "overflow_y": null,
            "overflow_x": null,
            "grid_auto_flow": null,
            "grid_area": null,
            "grid_template_columns": null,
            "flex": null,
            "_model_name": "LayoutModel",
            "justify_items": null,
            "grid_row": null,
            "max_height": null,
            "align_content": null,
            "visibility": null,
            "align_self": null,
            "height": null,
            "min_height": null,
            "padding": null,
            "grid_auto_rows": null,
            "grid_gap": null,
            "max_width": null,
            "order": null,
            "_view_module_version": "1.2.0",
            "grid_template_areas": null,
            "object_position": null,
            "object_fit": null,
            "grid_auto_columns": null,
            "margin": null,
            "display": null,
            "left": null
          }
        },
        "708b522a347341beae787adec5346aef": {
          "model_module": "@jupyter-widgets/controls",
          "model_name": "HBoxModel",
          "state": {
            "_view_name": "HBoxView",
            "_dom_classes": [],
            "_model_name": "HBoxModel",
            "_view_module": "@jupyter-widgets/controls",
            "_model_module_version": "1.5.0",
            "_view_count": null,
            "_view_module_version": "1.5.0",
            "box_style": "",
            "layout": "IPY_MODEL_7b3b26a590e94563bfcbd8e9ba0d7e0b",
            "_model_module": "@jupyter-widgets/controls",
            "children": [
              "IPY_MODEL_70664905d7704881b5bb99f152bdbbd5",
              "IPY_MODEL_70509b01221240439308f8d25f8c1206"
            ]
          }
        },
        "7b3b26a590e94563bfcbd8e9ba0d7e0b": {
          "model_module": "@jupyter-widgets/base",
          "model_name": "LayoutModel",
          "state": {
            "_view_name": "LayoutView",
            "grid_template_rows": null,
            "right": null,
            "justify_content": null,
            "_view_module": "@jupyter-widgets/base",
            "overflow": null,
            "_model_module_version": "1.2.0",
            "_view_count": null,
            "flex_flow": null,
            "width": null,
            "min_width": null,
            "border": null,
            "align_items": null,
            "bottom": null,
            "_model_module": "@jupyter-widgets/base",
            "top": null,
            "grid_column": null,
            "overflow_y": null,
            "overflow_x": null,
            "grid_auto_flow": null,
            "grid_area": null,
            "grid_template_columns": null,
            "flex": null,
            "_model_name": "LayoutModel",
            "justify_items": null,
            "grid_row": null,
            "max_height": null,
            "align_content": null,
            "visibility": null,
            "align_self": null,
            "height": null,
            "min_height": null,
            "padding": null,
            "grid_auto_rows": null,
            "grid_gap": null,
            "max_width": null,
            "order": null,
            "_view_module_version": "1.2.0",
            "grid_template_areas": null,
            "object_position": null,
            "object_fit": null,
            "grid_auto_columns": null,
            "margin": null,
            "display": null,
            "left": null
          }
        },
        "70664905d7704881b5bb99f152bdbbd5": {
          "model_module": "@jupyter-widgets/controls",
          "model_name": "FloatProgressModel",
          "state": {
            "_view_name": "ProgressView",
            "style": "IPY_MODEL_9e9847627b384b2a95347895fc5d310c",
            "_dom_classes": [],
            "description": "",
            "_model_name": "FloatProgressModel",
            "bar_style": "success",
            "max": 1,
            "_view_module": "@jupyter-widgets/controls",
            "_model_module_version": "1.5.0",
            "value": 1,
            "_view_count": null,
            "_view_module_version": "1.5.0",
            "orientation": "horizontal",
            "min": 0,
            "description_tooltip": null,
            "_model_module": "@jupyter-widgets/controls",
            "layout": "IPY_MODEL_863f4e87a58f4a17a727a47498c9eef8"
          }
        },
        "70509b01221240439308f8d25f8c1206": {
          "model_module": "@jupyter-widgets/controls",
          "model_name": "HTMLModel",
          "state": {
            "_view_name": "HTMLView",
            "style": "IPY_MODEL_e99bad2eaa7b4370b37122e4be512008",
            "_dom_classes": [],
            "description": "",
            "_model_name": "HTMLModel",
            "placeholder": "​",
            "_view_module": "@jupyter-widgets/controls",
            "_model_module_version": "1.5.0",
            "value": " 8192/? [00:00&lt;00:00, 16875.87it/s]",
            "_view_count": null,
            "_view_module_version": "1.5.0",
            "description_tooltip": null,
            "_model_module": "@jupyter-widgets/controls",
            "layout": "IPY_MODEL_d20d032420c9425da3bd60fbac1f4dc3"
          }
        },
        "9e9847627b384b2a95347895fc5d310c": {
          "model_module": "@jupyter-widgets/controls",
          "model_name": "ProgressStyleModel",
          "state": {
            "_view_name": "StyleView",
            "_model_name": "ProgressStyleModel",
            "description_width": "initial",
            "_view_module": "@jupyter-widgets/base",
            "_model_module_version": "1.5.0",
            "_view_count": null,
            "_view_module_version": "1.2.0",
            "bar_color": null,
            "_model_module": "@jupyter-widgets/controls"
          }
        },
        "863f4e87a58f4a17a727a47498c9eef8": {
          "model_module": "@jupyter-widgets/base",
          "model_name": "LayoutModel",
          "state": {
            "_view_name": "LayoutView",
            "grid_template_rows": null,
            "right": null,
            "justify_content": null,
            "_view_module": "@jupyter-widgets/base",
            "overflow": null,
            "_model_module_version": "1.2.0",
            "_view_count": null,
            "flex_flow": null,
            "width": null,
            "min_width": null,
            "border": null,
            "align_items": null,
            "bottom": null,
            "_model_module": "@jupyter-widgets/base",
            "top": null,
            "grid_column": null,
            "overflow_y": null,
            "overflow_x": null,
            "grid_auto_flow": null,
            "grid_area": null,
            "grid_template_columns": null,
            "flex": null,
            "_model_name": "LayoutModel",
            "justify_items": null,
            "grid_row": null,
            "max_height": null,
            "align_content": null,
            "visibility": null,
            "align_self": null,
            "height": null,
            "min_height": null,
            "padding": null,
            "grid_auto_rows": null,
            "grid_gap": null,
            "max_width": null,
            "order": null,
            "_view_module_version": "1.2.0",
            "grid_template_areas": null,
            "object_position": null,
            "object_fit": null,
            "grid_auto_columns": null,
            "margin": null,
            "display": null,
            "left": null
          }
        },
        "e99bad2eaa7b4370b37122e4be512008": {
          "model_module": "@jupyter-widgets/controls",
          "model_name": "DescriptionStyleModel",
          "state": {
            "_view_name": "StyleView",
            "_model_name": "DescriptionStyleModel",
            "description_width": "",
            "_view_module": "@jupyter-widgets/base",
            "_model_module_version": "1.5.0",
            "_view_count": null,
            "_view_module_version": "1.2.0",
            "_model_module": "@jupyter-widgets/controls"
          }
        },
        "d20d032420c9425da3bd60fbac1f4dc3": {
          "model_module": "@jupyter-widgets/base",
          "model_name": "LayoutModel",
          "state": {
            "_view_name": "LayoutView",
            "grid_template_rows": null,
            "right": null,
            "justify_content": null,
            "_view_module": "@jupyter-widgets/base",
            "overflow": null,
            "_model_module_version": "1.2.0",
            "_view_count": null,
            "flex_flow": null,
            "width": null,
            "min_width": null,
            "border": null,
            "align_items": null,
            "bottom": null,
            "_model_module": "@jupyter-widgets/base",
            "top": null,
            "grid_column": null,
            "overflow_y": null,
            "overflow_x": null,
            "grid_auto_flow": null,
            "grid_area": null,
            "grid_template_columns": null,
            "flex": null,
            "_model_name": "LayoutModel",
            "justify_items": null,
            "grid_row": null,
            "max_height": null,
            "align_content": null,
            "visibility": null,
            "align_self": null,
            "height": null,
            "min_height": null,
            "padding": null,
            "grid_auto_rows": null,
            "grid_gap": null,
            "max_width": null,
            "order": null,
            "_view_module_version": "1.2.0",
            "grid_template_areas": null,
            "object_position": null,
            "object_fit": null,
            "grid_auto_columns": null,
            "margin": null,
            "display": null,
            "left": null
          }
        }
      }
    }
  },
  "cells": [
    {
      "cell_type": "code",
      "metadata": {
        "id": "etU_t0xj_9tT"
      },
      "source": [
        "%matplotlib inline\n",
        "\n",
        "import numpy as np\n",
        "import torch\n",
        "import matplotlib.pyplot as plt"
      ],
      "execution_count": 1,
      "outputs": []
    },
    {
      "cell_type": "code",
      "metadata": {
        "id": "NjjgdEdCF3Cr",
        "colab": {
          "base_uri": "https://localhost:8080/",
          "height": 404,
          "referenced_widgets": [
            "5d7edb6d67dc49859bf5e1630559e254",
            "455957e2e6c241e49b000ea1463fafa8",
            "5164d533c6914bb7814e8b225d8d1b05",
            "00ce32d8d97742329187d23dfea980e7",
            "680936ab51994be7968daff1f87be8ca",
            "5d7060cf842e473aac342c02b05d504a",
            "6d4bd6b1987749d693db3c8fe0c28cd0",
            "fa3c62a9aa5f455ba2dd268d0e38b5d3",
            "cd1a390c76b84a8091300c633db7d830",
            "d1ab40c0ddd64401a08a0ee2c3b19a78",
            "d38d5b61d9974e83849bf9c750ee82dc",
            "0ed2742aed394e9abf0f7426f46126fd",
            "7310b06cb6814dc29ae9467b03307a18",
            "b177b4851ff3445fa42c5e52c03f0235",
            "d10e50aa3ada437e822cbee33ea06b55",
            "579d322124434684b8497e7fe022e740",
            "ffe1f0a1293b45c89603382e4defa1a7",
            "e41454f9306b42488952ae02ffc37f41",
            "4b573a66c18b40e3ab1c6f98866d6770",
            "f4a76050d2b7453896b190cd9d4ce749",
            "c8a823175d974f118ded7c5dc94d8520",
            "389068b6aa0349f88a5a797cc1985369",
            "6099902b7d2345afb6c6a49772cc3a89",
            "0a6c2b51af1a4864b53dea085ab7b907",
            "708b522a347341beae787adec5346aef",
            "7b3b26a590e94563bfcbd8e9ba0d7e0b",
            "70664905d7704881b5bb99f152bdbbd5",
            "70509b01221240439308f8d25f8c1206",
            "9e9847627b384b2a95347895fc5d310c",
            "863f4e87a58f4a17a727a47498c9eef8",
            "e99bad2eaa7b4370b37122e4be512008",
            "d20d032420c9425da3bd60fbac1f4dc3"
          ]
        },
        "outputId": "10e969cd-e56d-4e57-c3c4-92d539929f96"
      },
      "source": [
        "from torchvision import datasets\n",
        "import torchvision.transforms as transforms\n",
        "\n",
        "batch_size = 64\n",
        "\n",
        "# transforms\n",
        "transform = transforms.ToTensor()\n",
        "\n",
        "# train and validation data\n",
        "train_data = datasets.MNIST(root='data', train=True,\n",
        "                                   download=True, transform=transform)\n",
        "\n",
        "val_data = datasets.MNIST(root='data', train=False,\n",
        "                                  download=True, transform=transform)\n",
        "\n",
        "# training and validation data loaders\n",
        "train_loader = torch.utils.data.DataLoader(train_data, batch_size = batch_size,\n",
        "                                            shuffle = True)\n",
        "val_loader = torch.utils.data.DataLoader(val_data, batch_size = batch_size,\n",
        "                                            shuffle = False)"
      ],
      "execution_count": 2,
      "outputs": [
        {
          "output_type": "stream",
          "text": [
            "Downloading http://yann.lecun.com/exdb/mnist/train-images-idx3-ubyte.gz to data/MNIST/raw/train-images-idx3-ubyte.gz\n"
          ],
          "name": "stdout"
        },
        {
          "output_type": "display_data",
          "data": {
            "application/vnd.jupyter.widget-view+json": {
              "model_id": "5d7edb6d67dc49859bf5e1630559e254",
              "version_minor": 0,
              "version_major": 2
            },
            "text/plain": [
              "HBox(children=(FloatProgress(value=1.0, bar_style='info', max=1.0), HTML(value='')))"
            ]
          },
          "metadata": {
            "tags": []
          }
        },
        {
          "output_type": "stream",
          "text": [
            "Extracting data/MNIST/raw/train-images-idx3-ubyte.gz to data/MNIST/raw\n",
            "Downloading http://yann.lecun.com/exdb/mnist/train-labels-idx1-ubyte.gz to data/MNIST/raw/train-labels-idx1-ubyte.gz\n"
          ],
          "name": "stdout"
        },
        {
          "output_type": "display_data",
          "data": {
            "application/vnd.jupyter.widget-view+json": {
              "model_id": "cd1a390c76b84a8091300c633db7d830",
              "version_minor": 0,
              "version_major": 2
            },
            "text/plain": [
              "HBox(children=(FloatProgress(value=1.0, bar_style='info', max=1.0), HTML(value='')))"
            ]
          },
          "metadata": {
            "tags": []
          }
        },
        {
          "output_type": "stream",
          "text": [
            "Extracting data/MNIST/raw/train-labels-idx1-ubyte.gz to data/MNIST/raw\n",
            "Downloading http://yann.lecun.com/exdb/mnist/t10k-images-idx3-ubyte.gz to data/MNIST/raw/t10k-images-idx3-ubyte.gz\n",
            "\n",
            "\n"
          ],
          "name": "stdout"
        },
        {
          "output_type": "display_data",
          "data": {
            "application/vnd.jupyter.widget-view+json": {
              "model_id": "ffe1f0a1293b45c89603382e4defa1a7",
              "version_minor": 0,
              "version_major": 2
            },
            "text/plain": [
              "HBox(children=(FloatProgress(value=1.0, bar_style='info', max=1.0), HTML(value='')))"
            ]
          },
          "metadata": {
            "tags": []
          }
        },
        {
          "output_type": "stream",
          "text": [
            "Extracting data/MNIST/raw/t10k-images-idx3-ubyte.gz to data/MNIST/raw\n",
            "Downloading http://yann.lecun.com/exdb/mnist/t10k-labels-idx1-ubyte.gz to data/MNIST/raw/t10k-labels-idx1-ubyte.gz\n"
          ],
          "name": "stdout"
        },
        {
          "output_type": "display_data",
          "data": {
            "application/vnd.jupyter.widget-view+json": {
              "model_id": "708b522a347341beae787adec5346aef",
              "version_minor": 0,
              "version_major": 2
            },
            "text/plain": [
              "HBox(children=(FloatProgress(value=1.0, bar_style='info', max=1.0), HTML(value='')))"
            ]
          },
          "metadata": {
            "tags": []
          }
        },
        {
          "output_type": "stream",
          "text": [
            "Extracting data/MNIST/raw/t10k-labels-idx1-ubyte.gz to data/MNIST/raw\n",
            "Processing...\n"
          ],
          "name": "stdout"
        },
        {
          "output_type": "stream",
          "text": [
            "/usr/local/lib/python3.6/dist-packages/torchvision/datasets/mnist.py:480: UserWarning: The given NumPy array is not writeable, and PyTorch does not support non-writeable tensors. This means you can write to the underlying (supposedly non-writeable) NumPy array using the tensor. You may want to copy the array to protect its data or make it writeable before converting it to a tensor. This type of warning will be suppressed for the rest of this program. (Triggered internally at  /pytorch/torch/csrc/utils/tensor_numpy.cpp:141.)\n",
            "  return torch.from_numpy(parsed.astype(m[2], copy=False)).view(*s)\n"
          ],
          "name": "stderr"
        },
        {
          "output_type": "stream",
          "text": [
            "Done!\n"
          ],
          "name": "stdout"
        }
      ]
    },
    {
      "cell_type": "code",
      "metadata": {
        "id": "lQYbxp0yFQDr"
      },
      "source": [
        "import torch.nn as nn\n",
        "import torch.nn.functional as F\n",
        "\n",
        "# define a simple linear VAE\n",
        "class LinearVAE(nn.Module):\n",
        "    def __init__(self, input_size, hidden_dims):\n",
        "        super(LinearVAE, self).__init__()\n",
        " \n",
        "        # encoder\n",
        "        self.enc1 = nn.Linear(input_size, hidden_dims*4)\n",
        "        self.enc2 = nn.Linear(hidden_dims*4, hidden_dims*2)\n",
        " \n",
        "        # decoder \n",
        "        self.dec1 = nn.Linear(hidden_dims, hidden_dims*4)\n",
        "        self.dec2 = nn.Linear(hidden_dims*4, input_size)\n",
        "\n",
        "    def reparameterize(self, mu, log_var):\n",
        "        \"\"\"\n",
        "        :param mu: mean from the encoder's latent space\n",
        "        :param log_var: log variance from the encoder's latent space\n",
        "        \"\"\"\n",
        "        std = torch.exp(0.5 * log_var) # standard deviation\n",
        "        eps = torch.randn_like(std) # `randn_like` as we need the same size\n",
        "        sample = mu + (eps * std) # sampling as if coming from the input space\n",
        "        return sample\n",
        " \n",
        "    def forward(self, x):\n",
        "        # encoding\n",
        "        x = F.leaky_relu(self.enc1(x), 0.2)\n",
        "        x = self.enc2(x).view(-1, 2, hidden_dims)\n",
        "        # get `mu` and `log_var`\n",
        "        mu = x[:, 0, :] # the first feature values as mean\n",
        "        log_var = x[:, 1, :] # the other feature values as variance\n",
        "        # get the latent vector through reparameterization\n",
        "        z = self.reparameterize(mu, log_var)\n",
        " \n",
        "        # decoding\n",
        "        x = F.leaky_relu(self.dec1(z), 0.2)\n",
        "        reconstruction = torch.sigmoid(self.dec2(x))\n",
        "        return reconstruction, mu, log_var"
      ],
      "execution_count": 16,
      "outputs": []
    },
    {
      "cell_type": "code",
      "metadata": {
        "id": "HIwyfPcsLG43"
      },
      "source": [
        "input_size = 784\n",
        "hidden_dims = 64"
      ],
      "execution_count": 17,
      "outputs": []
    },
    {
      "cell_type": "code",
      "metadata": {
        "id": "yDSamPbLJpKt",
        "colab": {
          "base_uri": "https://localhost:8080/"
        },
        "outputId": "14d6631b-80db-4810-e683-40e57762f735"
      },
      "source": [
        "device = torch.device('cuda' if torch.cuda.is_available() else 'cpu')\n",
        "lvae = LinearVAE(input_size, hidden_dims).to(device)\n",
        "print(lvae)"
      ],
      "execution_count": 18,
      "outputs": [
        {
          "output_type": "stream",
          "text": [
            "LinearVAE(\n",
            "  (enc1): Linear(in_features=784, out_features=256, bias=True)\n",
            "  (enc2): Linear(in_features=256, out_features=128, bias=True)\n",
            "  (dec1): Linear(in_features=64, out_features=256, bias=True)\n",
            "  (dec2): Linear(in_features=256, out_features=784, bias=True)\n",
            ")\n"
          ],
          "name": "stdout"
        }
      ]
    },
    {
      "cell_type": "code",
      "metadata": {
        "id": "CiZDqExWH1lI"
      },
      "source": [
        "import torch.optim as optim\n",
        "\n",
        "lr = 0.0002\n",
        "\n",
        "lvae_optimizer = optim.Adam(lvae.parameters(), lr=lr)\n",
        "criterion = nn.BCELoss(reduction='sum')"
      ],
      "execution_count": 19,
      "outputs": []
    },
    {
      "cell_type": "code",
      "metadata": {
        "id": "XhpyvOVjHVF7"
      },
      "source": [
        "def final_loss(bce_loss, mu, logvar):\n",
        "    \"\"\"\n",
        "    This function will add the reconstruction loss (BCELoss) and the \n",
        "    KL-Divergence.\n",
        "    KL-Divergence = 0.5 * sum(1 + log(sigma^2) - mu^2 - sigma^2)\n",
        "    :param bce_loss: recontruction loss\n",
        "    :param mu: the mean from the latent vector\n",
        "    :param logvar: log variance from the latent vector\n",
        "    \"\"\"\n",
        "    BCE = bce_loss \n",
        "    KLD = -0.5 * torch.sum(1 + logvar - mu.pow(2) - logvar.exp())\n",
        "    return BCE + KLD"
      ],
      "execution_count": 20,
      "outputs": []
    },
    {
      "cell_type": "code",
      "metadata": {
        "id": "5AoeFETOHZp-"
      },
      "source": [
        "def train(lvae, train_loader):\n",
        "    lvae.train()\n",
        "    running_loss = 0.0\n",
        "    for batch_i, (data, _) in enumerate(train_loader):\n",
        "        data = data.to(device)\n",
        "        data = data.view(data.size(0), -1)\n",
        "        lvae_optimizer.zero_grad()\n",
        "        reconstruction, mu, logvar = lvae(data)\n",
        "        bce_loss = criterion(reconstruction, data)\n",
        "        loss = final_loss(bce_loss, mu, logvar)\n",
        "        running_loss += loss.item()\n",
        "        loss.backward()\n",
        "        lvae_optimizer.step()\n",
        "    train_loss = running_loss/len(train_loader.dataset)\n",
        "    return train_loss"
      ],
      "execution_count": 21,
      "outputs": []
    },
    {
      "cell_type": "code",
      "metadata": {
        "id": "cWtK1qRqHbVY"
      },
      "source": [
        "from torchvision.utils import save_image\n",
        "import pickle as pkl\n",
        "samples = []\n",
        "\n",
        "def validate(lvae, val_loader):\n",
        "    lvae.eval()\n",
        "    running_loss = 0.0\n",
        "    with torch.no_grad():\n",
        "        for batch_i, (data, _) in enumerate(val_loader):\n",
        "            data = data.to(device)\n",
        "            data = data.view(data.size(0), -1)\n",
        "            reconstruction, mu, logvar = lvae(data)\n",
        "            bce_loss = criterion(reconstruction, data)\n",
        "            loss = final_loss(bce_loss, mu, logvar)\n",
        "            running_loss += loss.item()\n",
        "        \n",
        "            # save the last batch input and output of every epoch\n",
        "            if batch_i == len(val_data)//val_loader.batch_size - 1:\n",
        "                num_rows = 8\n",
        "                both = torch.cat((data.view(batch_size, 1, 28, 28)[:16], \n",
        "                                  reconstruction.view(batch_size, 1, 28, 28)[:16]))\n",
        "                samples.append(both)\n",
        "                # save_image(both.cpu(), f\"/content/drive/My Drive/Colab Notebooks/outputs/output{epoch+1}.png\", nrow = num_rows)\n",
        "    val_loss = running_loss/len(val_loader.dataset)\n",
        "    return val_loss"
      ],
      "execution_count": 22,
      "outputs": []
    },
    {
      "cell_type": "code",
      "metadata": {
        "id": "dDwMr56aO4YV",
        "colab": {
          "base_uri": "https://localhost:8080/"
        },
        "outputId": "8c5f6f9c-02a6-4e70-abbf-b48748dd5795"
      },
      "source": [
        "# from google.colab import drive\n",
        "# drive.mount('/content/drive/')"
      ],
      "execution_count": null,
      "outputs": [
        {
          "output_type": "stream",
          "text": [
            "Mounted at /content/drive/\n"
          ],
          "name": "stdout"
        }
      ]
    },
    {
      "cell_type": "code",
      "metadata": {
        "id": "ALUov_4AHhEl",
        "colab": {
          "base_uri": "https://localhost:8080/"
        },
        "outputId": "e291cf88-5731-4956-99aa-28ae514db764"
      },
      "source": [
        "train_loss = []\n",
        "val_loss = []\n",
        "\n",
        "num_epochs = 100\n",
        "\n",
        "for epoch in range(num_epochs):\n",
        "    train_epoch_loss = train(lvae, train_loader)\n",
        "    val_epoch_loss = validate(lvae, val_loader)\n",
        "    train_loss.append(train_epoch_loss)\n",
        "    val_loss.append(val_epoch_loss)\n",
        "    print('Epoch [{:3d}/{:3d}] | train_loss: {:6.4f} | val_loss: {:6.4f}'.format(\n",
        "                    epoch+1, num_epochs, train_epoch_loss, val_epoch_loss))\n",
        "    \n",
        "with open('train_samples.pkl', 'wb') as f:\n",
        "    pkl.dump(samples, f)"
      ],
      "execution_count": null,
      "outputs": [
        {
          "output_type": "stream",
          "text": [
            "Epoch [  1/200] | train_loss: 210.1970 | val_loss: 166.9126\n",
            "Epoch [  2/200] | train_loss: 157.5461 | val_loss: 147.5879\n",
            "Epoch [  3/200] | train_loss: 142.8061 | val_loss: 136.6329\n",
            "Epoch [  4/200] | train_loss: 133.9911 | val_loss: 129.6811\n",
            "Epoch [  5/200] | train_loss: 128.2924 | val_loss: 124.9701\n",
            "Epoch [  6/200] | train_loss: 124.2877 | val_loss: 121.4712\n",
            "Epoch [  7/200] | train_loss: 121.2370 | val_loss: 118.6795\n",
            "Epoch [  8/200] | train_loss: 118.8838 | val_loss: 116.8857\n",
            "Epoch [  9/200] | train_loss: 117.0300 | val_loss: 115.2435\n",
            "Epoch [ 10/200] | train_loss: 115.6656 | val_loss: 113.8488\n",
            "Epoch [ 11/200] | train_loss: 114.5346 | val_loss: 112.9356\n",
            "Epoch [ 12/200] | train_loss: 113.6133 | val_loss: 112.3723\n",
            "Epoch [ 13/200] | train_loss: 112.7704 | val_loss: 111.6225\n",
            "Epoch [ 14/200] | train_loss: 112.1152 | val_loss: 110.7862\n",
            "Epoch [ 15/200] | train_loss: 111.5525 | val_loss: 110.3485\n",
            "Epoch [ 16/200] | train_loss: 111.0041 | val_loss: 109.8386\n",
            "Epoch [ 17/200] | train_loss: 110.5932 | val_loss: 109.5240\n",
            "Epoch [ 18/200] | train_loss: 110.1063 | val_loss: 109.0830\n",
            "Epoch [ 19/200] | train_loss: 109.7530 | val_loss: 108.8668\n",
            "Epoch [ 20/200] | train_loss: 109.4263 | val_loss: 108.5264\n",
            "Epoch [ 21/200] | train_loss: 109.1283 | val_loss: 108.2313\n",
            "Epoch [ 22/200] | train_loss: 108.8203 | val_loss: 107.8505\n",
            "Epoch [ 23/200] | train_loss: 108.5700 | val_loss: 107.7152\n",
            "Epoch [ 24/200] | train_loss: 108.2813 | val_loss: 107.4861\n",
            "Epoch [ 25/200] | train_loss: 108.0659 | val_loss: 107.2499\n",
            "Epoch [ 26/200] | train_loss: 107.8634 | val_loss: 107.0334\n",
            "Epoch [ 27/200] | train_loss: 107.6569 | val_loss: 106.8287\n",
            "Epoch [ 28/200] | train_loss: 107.4380 | val_loss: 106.8105\n",
            "Epoch [ 29/200] | train_loss: 107.3000 | val_loss: 106.5025\n",
            "Epoch [ 30/200] | train_loss: 107.1153 | val_loss: 106.3248\n",
            "Epoch [ 31/200] | train_loss: 106.9436 | val_loss: 106.3235\n",
            "Epoch [ 32/200] | train_loss: 106.7996 | val_loss: 106.0542\n",
            "Epoch [ 33/200] | train_loss: 106.6457 | val_loss: 105.9781\n",
            "Epoch [ 34/200] | train_loss: 106.5295 | val_loss: 105.9576\n",
            "Epoch [ 35/200] | train_loss: 106.3623 | val_loss: 105.8735\n",
            "Epoch [ 36/200] | train_loss: 106.2808 | val_loss: 105.5815\n",
            "Epoch [ 37/200] | train_loss: 106.1313 | val_loss: 105.5893\n",
            "Epoch [ 38/200] | train_loss: 106.0505 | val_loss: 105.5229\n",
            "Epoch [ 39/200] | train_loss: 105.9051 | val_loss: 105.3786\n",
            "Epoch [ 40/200] | train_loss: 105.8333 | val_loss: 105.4463\n",
            "Epoch [ 41/200] | train_loss: 105.7149 | val_loss: 105.1241\n",
            "Epoch [ 42/200] | train_loss: 105.6460 | val_loss: 105.0463\n",
            "Epoch [ 43/200] | train_loss: 105.5414 | val_loss: 104.9490\n",
            "Epoch [ 44/200] | train_loss: 105.5133 | val_loss: 105.0577\n",
            "Epoch [ 45/200] | train_loss: 105.3876 | val_loss: 104.8518\n",
            "Epoch [ 46/200] | train_loss: 105.3302 | val_loss: 104.9064\n",
            "Epoch [ 47/200] | train_loss: 105.2362 | val_loss: 104.6627\n",
            "Epoch [ 48/200] | train_loss: 105.1574 | val_loss: 104.7292\n",
            "Epoch [ 49/200] | train_loss: 105.0674 | val_loss: 104.6131\n",
            "Epoch [ 50/200] | train_loss: 105.0533 | val_loss: 104.4823\n",
            "Epoch [ 51/200] | train_loss: 104.9394 | val_loss: 104.5753\n",
            "Epoch [ 52/200] | train_loss: 104.9068 | val_loss: 104.3102\n",
            "Epoch [ 53/200] | train_loss: 104.8237 | val_loss: 104.3443\n",
            "Epoch [ 54/200] | train_loss: 104.7694 | val_loss: 104.4198\n",
            "Epoch [ 55/200] | train_loss: 104.7158 | val_loss: 104.1729\n",
            "Epoch [ 56/200] | train_loss: 104.6574 | val_loss: 104.1487\n",
            "Epoch [ 57/200] | train_loss: 104.5960 | val_loss: 104.1941\n",
            "Epoch [ 58/200] | train_loss: 104.5237 | val_loss: 104.1159\n",
            "Epoch [ 59/200] | train_loss: 104.5029 | val_loss: 104.0322\n",
            "Epoch [ 60/200] | train_loss: 104.4340 | val_loss: 104.0684\n",
            "Epoch [ 61/200] | train_loss: 104.3705 | val_loss: 104.0072\n",
            "Epoch [ 62/200] | train_loss: 104.3498 | val_loss: 103.9062\n",
            "Epoch [ 63/200] | train_loss: 104.2991 | val_loss: 103.9861\n",
            "Epoch [ 64/200] | train_loss: 104.2210 | val_loss: 103.8230\n",
            "Epoch [ 65/200] | train_loss: 104.1924 | val_loss: 103.8540\n",
            "Epoch [ 66/200] | train_loss: 104.1956 | val_loss: 103.7628\n",
            "Epoch [ 67/200] | train_loss: 104.1187 | val_loss: 103.8467\n",
            "Epoch [ 68/200] | train_loss: 104.1042 | val_loss: 103.7512\n",
            "Epoch [ 69/200] | train_loss: 104.0367 | val_loss: 103.7280\n",
            "Epoch [ 70/200] | train_loss: 103.9885 | val_loss: 103.6279\n",
            "Epoch [ 71/200] | train_loss: 103.9461 | val_loss: 103.6593\n",
            "Epoch [ 72/200] | train_loss: 103.9334 | val_loss: 103.5778\n",
            "Epoch [ 73/200] | train_loss: 103.8931 | val_loss: 103.5757\n",
            "Epoch [ 74/200] | train_loss: 103.8602 | val_loss: 103.5348\n",
            "Epoch [ 75/200] | train_loss: 103.8473 | val_loss: 103.5873\n",
            "Epoch [ 76/200] | train_loss: 103.7654 | val_loss: 103.5392\n",
            "Epoch [ 77/200] | train_loss: 103.7434 | val_loss: 103.3330\n",
            "Epoch [ 78/200] | train_loss: 103.7649 | val_loss: 103.3815\n",
            "Epoch [ 79/200] | train_loss: 103.6921 | val_loss: 103.3660\n",
            "Epoch [ 80/200] | train_loss: 103.6472 | val_loss: 103.4011\n",
            "Epoch [ 81/200] | train_loss: 103.6313 | val_loss: 103.2371\n",
            "Epoch [ 82/200] | train_loss: 103.6076 | val_loss: 103.3231\n",
            "Epoch [ 83/200] | train_loss: 103.5643 | val_loss: 103.3887\n",
            "Epoch [ 84/200] | train_loss: 103.5177 | val_loss: 103.2993\n",
            "Epoch [ 85/200] | train_loss: 103.4529 | val_loss: 103.2303\n",
            "Epoch [ 86/200] | train_loss: 103.4811 | val_loss: 103.2295\n",
            "Epoch [ 87/200] | train_loss: 103.4760 | val_loss: 103.1078\n",
            "Epoch [ 88/200] | train_loss: 103.4304 | val_loss: 103.0852\n",
            "Epoch [ 89/200] | train_loss: 103.3973 | val_loss: 103.0479\n",
            "Epoch [ 90/200] | train_loss: 103.3792 | val_loss: 103.0824\n",
            "Epoch [ 91/200] | train_loss: 103.3303 | val_loss: 103.0911\n",
            "Epoch [ 92/200] | train_loss: 103.3112 | val_loss: 103.1014\n",
            "Epoch [ 93/200] | train_loss: 103.2768 | val_loss: 103.0227\n",
            "Epoch [ 94/200] | train_loss: 103.2989 | val_loss: 103.0425\n",
            "Epoch [ 95/200] | train_loss: 103.2443 | val_loss: 102.9815\n",
            "Epoch [ 96/200] | train_loss: 103.2417 | val_loss: 102.9568\n",
            "Epoch [ 97/200] | train_loss: 103.2045 | val_loss: 103.0342\n",
            "Epoch [ 98/200] | train_loss: 103.1886 | val_loss: 102.9384\n",
            "Epoch [ 99/200] | train_loss: 103.1444 | val_loss: 102.9463\n",
            "Epoch [100/200] | train_loss: 103.1407 | val_loss: 102.9905\n",
            "Epoch [101/200] | train_loss: 103.0887 | val_loss: 102.9146\n",
            "Epoch [102/200] | train_loss: 103.1061 | val_loss: 102.7806\n",
            "Epoch [103/200] | train_loss: 103.0871 | val_loss: 102.9314\n",
            "Epoch [104/200] | train_loss: 103.0599 | val_loss: 102.8202\n",
            "Epoch [105/200] | train_loss: 102.9913 | val_loss: 102.6811\n",
            "Epoch [106/200] | train_loss: 103.0307 | val_loss: 102.7570\n",
            "Epoch [107/200] | train_loss: 102.9594 | val_loss: 102.7223\n",
            "Epoch [108/200] | train_loss: 102.9677 | val_loss: 102.7609\n",
            "Epoch [109/200] | train_loss: 102.9442 | val_loss: 102.8064\n",
            "Epoch [110/200] | train_loss: 102.9521 | val_loss: 102.7145\n",
            "Epoch [111/200] | train_loss: 102.9272 | val_loss: 102.8264\n",
            "Epoch [112/200] | train_loss: 102.8772 | val_loss: 102.5965\n",
            "Epoch [113/200] | train_loss: 102.8502 | val_loss: 102.6001\n",
            "Epoch [114/200] | train_loss: 102.8360 | val_loss: 102.7207\n",
            "Epoch [115/200] | train_loss: 102.8650 | val_loss: 102.6909\n",
            "Epoch [116/200] | train_loss: 102.8308 | val_loss: 102.5762\n",
            "Epoch [117/200] | train_loss: 102.8280 | val_loss: 102.6349\n",
            "Epoch [118/200] | train_loss: 102.8341 | val_loss: 102.6180\n",
            "Epoch [119/200] | train_loss: 102.7950 | val_loss: 102.6036\n",
            "Epoch [120/200] | train_loss: 102.7349 | val_loss: 102.5917\n",
            "Epoch [121/200] | train_loss: 102.7499 | val_loss: 102.5623\n",
            "Epoch [122/200] | train_loss: 102.7234 | val_loss: 102.5690\n",
            "Epoch [123/200] | train_loss: 102.6934 | val_loss: 102.5901\n",
            "Epoch [124/200] | train_loss: 102.7108 | val_loss: 102.7240\n"
          ],
          "name": "stdout"
        }
      ]
    },
    {
      "cell_type": "code",
      "metadata": {
        "id": "GHg-VuNgNYyq",
        "colab": {
          "base_uri": "https://localhost:8080/",
          "height": 297
        },
        "outputId": "70a7a7b5-ef03-4199-ea4a-07a80c0d72bf"
      },
      "source": [
        "# Plot Training and Validation Loss of VAE vs. Epochs\n",
        "fig, ax = plt.subplots()\n",
        "train_loss = np.array(train_loss)\n",
        "val_loss = np.array(val_loss)\n",
        "plt.plot(train_loss.T, label='train_loss')\n",
        "plt.plot(val_loss.T, label='val_loss')\n",
        "plt.title(\"Training and Validation Losses\")\n",
        "plt.legend()"
      ],
      "execution_count": 12,
      "outputs": [
        {
          "output_type": "execute_result",
          "data": {
            "text/plain": [
              "<matplotlib.legend.Legend at 0x7f23c5a0c908>"
            ]
          },
          "metadata": {
            "tags": []
          },
          "execution_count": 12
        },
        {
          "output_type": "display_data",
          "data": {
            "image/png": "[encoded data removed]",
            "text/plain": [
              "<Figure size 432x288 with 1 Axes>"
            ]
          },
          "metadata": {
            "tags": [],
            "needs_background": "light"
          }
        }
      ]
    },
    {
      "cell_type": "code",
      "metadata": {
        "id": "bwYAUVB8kD1m"
      },
      "source": [
        "# helper function for viewing a list of passed in sample images\n",
        "def view_samples(epoch, samples):\n",
        "    fig, axes = plt.subplots(figsize=(28,5), nrows = 2, ncols = 16, sharey=True, sharex=True)\n",
        "    for ax, img in zip(axes.flatten(), samples[epoch]):\n",
        "        img = img.detach()\n",
        "        ax.xaxis.set_visible(False)\n",
        "        ax.yaxis.set_visible(False)\n",
        "        im = ax.imshow(img.reshape((28,28)), cmap='Greys_r')"
      ],
      "execution_count": 13,
      "outputs": []
    },
    {
      "cell_type": "code",
      "metadata": {
        "id": "JKo2_-mrZiu_"
      },
      "source": [
        "with open('train_samples.pkl', 'rb') as f:\n",
        "    samples = pkl.load(f)"
      ],
      "execution_count": 14,
      "outputs": []
    },
    {
      "cell_type": "code",
      "metadata": {
        "id": "jr7WdMcmZmiH",
        "colab": {
          "base_uri": "https://localhost:8080/",
          "height": 264
        },
        "outputId": "4a6bd855-5d01-4f59-cbf5-f537e7e279fe"
      },
      "source": [
        "view_samples(-1, samples)"
      ],
      "execution_count": 15,
      "outputs": [
        {
          "output_type": "display_data",
          "data": {
            "image/png": "[encoded data removed]",
            "text/plain": [
              "<Figure size 2016x360 with 32 Axes>"
            ]
          },
          "metadata": {
            "tags": [],
            "needs_background": "light"
          }
        }
      ]
    }
  ]
}